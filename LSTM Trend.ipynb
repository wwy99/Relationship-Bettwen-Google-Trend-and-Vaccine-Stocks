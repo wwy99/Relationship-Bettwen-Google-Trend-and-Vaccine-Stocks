{
 "cells": [
  {
   "cell_type": "code",
   "execution_count": 1,
   "id": "39e9bc42",
   "metadata": {},
   "outputs": [
    {
     "data": {
      "text/html": [
       "#Lets try using google trends data as an exogeneous factor to the original ARIMA model.\n",
       "<h1> Forecast Using LSTM Model <h1>\n"
      ],
      "text/plain": [
       "<IPython.core.display.HTML object>"
      ]
     },
     "metadata": {},
     "output_type": "display_data"
    }
   ],
   "source": [
    " %%html\n",
    "#Lets try using google trends data as an exogeneous factor to the original ARIMA model.\n",
    "<h1> Forecast Using LSTM Model <h1>"
   ]
  },
  {
   "cell_type": "code",
   "execution_count": 1,
   "id": "283a75ae",
   "metadata": {},
   "outputs": [],
   "source": [
    "import numpy as np\n",
    "import pandas as pd\n",
    "\n",
    "import os\n",
    "import matplotlib.pyplot as plt\n",
    "import datetime as dt\n",
    "\n",
    "from sklearn.preprocessing import MinMaxScaler\n",
    "from tensorflow.keras.models import Sequential\n",
    "from tensorflow.keras.layers import Dense, Dropout, LSTM\n",
    "from tensorflow.keras.callbacks import ModelCheckpoint, EarlyStopping"
   ]
  },
  {
   "cell_type": "code",
   "execution_count": 24,
   "id": "5c760206",
   "metadata": {},
   "outputs": [
    {
     "data": {
      "text/plain": [
       "'1.19.5'"
      ]
     },
     "execution_count": 24,
     "metadata": {},
     "output_type": "execute_result"
    }
   ],
   "source": [
    "np.__version__"
   ]
  },
  {
   "cell_type": "code",
   "execution_count": 268,
   "id": "2a805db4",
   "metadata": {},
   "outputs": [],
   "source": [
    "from datetime import date, datetime, timedelta\n",
    "from pytrends.request import TrendReq\n",
    "import time\n",
    "import pandas as pd\n",
    "import matplotlib\n",
    "import gtrends\n",
    "from IPython.core.display import display, HTML\n",
    "from pytrends import dailydata\n",
    "import yfinance as yf\n",
    "#Request trending data from google\n",
    "pytrend = TrendReq(hl='en-US')\n",
    "keyword2 = 'Covid-19 Vaccine'\n",
    "start = '2019-01-01'\n",
    "end = '2021-12-01'\n",
    "geo='US'\n",
    "cat=0\n",
    "gprop=''\n",
    "\n",
    "cp = yf.Ticker(\"NVAX\")\n",
    "\n",
    "nvax = cp.history(start=start, end=end)\n",
    "\n"
   ]
  },
  {
   "cell_type": "code",
   "execution_count": 269,
   "id": "d0d26c1a",
   "metadata": {},
   "outputs": [],
   "source": [
    "#Covid-19 Vaccine Trend/ can represent the need of vaccine\n",
    "\n",
    "start_d = datetime.strptime(start, '%Y-%m-%d')\n",
    "end_d = datetime.strptime(end, '%Y-%m-%d')\n",
    "s_year = start_d.year\n",
    "s_mon = start_d.month\n",
    "e_year = end_d.year\n",
    "e_mon = end_d.month\n",
    "\n",
    "dailydata3 = dailydata.get_daily_data(word= keyword2,\n",
    "                 start_year= s_year,\n",
    "                 start_mon= s_mon,\n",
    "                 stop_year= e_year,\n",
    "                 stop_mon= e_mon,\n",
    "                 geo= geo,\n",
    "                 verbose= False,\n",
    "                 wait_time = 1.0)"
   ]
  },
  {
   "cell_type": "code",
   "execution_count": 270,
   "id": "a7a7b171",
   "metadata": {},
   "outputs": [
    {
     "data": {
      "text/html": [
       "<div>\n",
       "<style scoped>\n",
       "    .dataframe tbody tr th:only-of-type {\n",
       "        vertical-align: middle;\n",
       "    }\n",
       "\n",
       "    .dataframe tbody tr th {\n",
       "        vertical-align: top;\n",
       "    }\n",
       "\n",
       "    .dataframe thead th {\n",
       "        text-align: right;\n",
       "    }\n",
       "</style>\n",
       "<table border=\"1\" class=\"dataframe\">\n",
       "  <thead>\n",
       "    <tr style=\"text-align: right;\">\n",
       "      <th></th>\n",
       "      <th>Covid-19 Vaccine_unscaled</th>\n",
       "      <th>Covid-19 Vaccine_monthly</th>\n",
       "      <th>isPartial</th>\n",
       "      <th>scale</th>\n",
       "      <th>Covid-19 Vaccine</th>\n",
       "    </tr>\n",
       "    <tr>\n",
       "      <th>date</th>\n",
       "      <th></th>\n",
       "      <th></th>\n",
       "      <th></th>\n",
       "      <th></th>\n",
       "      <th></th>\n",
       "    </tr>\n",
       "  </thead>\n",
       "  <tbody>\n",
       "    <tr>\n",
       "      <th>2020-02-01</th>\n",
       "      <td>0</td>\n",
       "      <td>NaN</td>\n",
       "      <td>NaN</td>\n",
       "      <td>NaN</td>\n",
       "      <td>NaN</td>\n",
       "    </tr>\n",
       "    <tr>\n",
       "      <th>2020-02-02</th>\n",
       "      <td>0</td>\n",
       "      <td>0.0</td>\n",
       "      <td>False</td>\n",
       "      <td>0.00</td>\n",
       "      <td>0.00</td>\n",
       "    </tr>\n",
       "    <tr>\n",
       "      <th>2020-02-03</th>\n",
       "      <td>0</td>\n",
       "      <td>0.0</td>\n",
       "      <td>NaN</td>\n",
       "      <td>0.00</td>\n",
       "      <td>0.00</td>\n",
       "    </tr>\n",
       "    <tr>\n",
       "      <th>2020-02-04</th>\n",
       "      <td>0</td>\n",
       "      <td>0.0</td>\n",
       "      <td>NaN</td>\n",
       "      <td>0.00</td>\n",
       "      <td>0.00</td>\n",
       "    </tr>\n",
       "    <tr>\n",
       "      <th>2020-02-05</th>\n",
       "      <td>0</td>\n",
       "      <td>0.0</td>\n",
       "      <td>NaN</td>\n",
       "      <td>0.00</td>\n",
       "      <td>0.00</td>\n",
       "    </tr>\n",
       "    <tr>\n",
       "      <th>...</th>\n",
       "      <td>...</td>\n",
       "      <td>...</td>\n",
       "      <td>...</td>\n",
       "      <td>...</td>\n",
       "      <td>...</td>\n",
       "    </tr>\n",
       "    <tr>\n",
       "      <th>2021-12-10</th>\n",
       "      <td>65</td>\n",
       "      <td>11.0</td>\n",
       "      <td>NaN</td>\n",
       "      <td>0.11</td>\n",
       "      <td>7.15</td>\n",
       "    </tr>\n",
       "    <tr>\n",
       "      <th>2021-12-11</th>\n",
       "      <td>65</td>\n",
       "      <td>11.0</td>\n",
       "      <td>NaN</td>\n",
       "      <td>0.11</td>\n",
       "      <td>7.15</td>\n",
       "    </tr>\n",
       "    <tr>\n",
       "      <th>2021-12-12</th>\n",
       "      <td>39</td>\n",
       "      <td>9.0</td>\n",
       "      <td>True</td>\n",
       "      <td>0.09</td>\n",
       "      <td>3.51</td>\n",
       "    </tr>\n",
       "    <tr>\n",
       "      <th>2021-12-13</th>\n",
       "      <td>83</td>\n",
       "      <td>9.0</td>\n",
       "      <td>NaN</td>\n",
       "      <td>0.09</td>\n",
       "      <td>7.47</td>\n",
       "    </tr>\n",
       "    <tr>\n",
       "      <th>2021-12-14</th>\n",
       "      <td>74</td>\n",
       "      <td>9.0</td>\n",
       "      <td>NaN</td>\n",
       "      <td>0.09</td>\n",
       "      <td>6.66</td>\n",
       "    </tr>\n",
       "  </tbody>\n",
       "</table>\n",
       "<p>683 rows × 5 columns</p>\n",
       "</div>"
      ],
      "text/plain": [
       "            Covid-19 Vaccine_unscaled  Covid-19 Vaccine_monthly isPartial  \\\n",
       "date                                                                        \n",
       "2020-02-01                          0                       NaN       NaN   \n",
       "2020-02-02                          0                       0.0     False   \n",
       "2020-02-03                          0                       0.0       NaN   \n",
       "2020-02-04                          0                       0.0       NaN   \n",
       "2020-02-05                          0                       0.0       NaN   \n",
       "...                               ...                       ...       ...   \n",
       "2021-12-10                         65                      11.0       NaN   \n",
       "2021-12-11                         65                      11.0       NaN   \n",
       "2021-12-12                         39                       9.0      True   \n",
       "2021-12-13                         83                       9.0       NaN   \n",
       "2021-12-14                         74                       9.0       NaN   \n",
       "\n",
       "            scale  Covid-19 Vaccine  \n",
       "date                                 \n",
       "2020-02-01    NaN               NaN  \n",
       "2020-02-02   0.00              0.00  \n",
       "2020-02-03   0.00              0.00  \n",
       "2020-02-04   0.00              0.00  \n",
       "2020-02-05   0.00              0.00  \n",
       "...           ...               ...  \n",
       "2021-12-10   0.11              7.15  \n",
       "2021-12-11   0.11              7.15  \n",
       "2021-12-12   0.09              3.51  \n",
       "2021-12-13   0.09              7.47  \n",
       "2021-12-14   0.09              6.66  \n",
       "\n",
       "[683 rows x 5 columns]"
      ]
     },
     "execution_count": 270,
     "metadata": {},
     "output_type": "execute_result"
    }
   ],
   "source": [
    "dailydata3"
   ]
  },
  {
   "cell_type": "code",
   "execution_count": 271,
   "id": "8c1a561e",
   "metadata": {},
   "outputs": [
    {
     "data": {
      "text/html": [
       "<div>\n",
       "<style scoped>\n",
       "    .dataframe tbody tr th:only-of-type {\n",
       "        vertical-align: middle;\n",
       "    }\n",
       "\n",
       "    .dataframe tbody tr th {\n",
       "        vertical-align: top;\n",
       "    }\n",
       "\n",
       "    .dataframe thead th {\n",
       "        text-align: right;\n",
       "    }\n",
       "</style>\n",
       "<table border=\"1\" class=\"dataframe\">\n",
       "  <thead>\n",
       "    <tr style=\"text-align: right;\">\n",
       "      <th></th>\n",
       "      <th>Daily Trends</th>\n",
       "      <th>Stock Price</th>\n",
       "    </tr>\n",
       "  </thead>\n",
       "  <tbody>\n",
       "    <tr>\n",
       "      <th>2019-01-02</th>\n",
       "      <td>NaN</td>\n",
       "      <td>39.400002</td>\n",
       "    </tr>\n",
       "    <tr>\n",
       "      <th>2019-01-03</th>\n",
       "      <td>NaN</td>\n",
       "      <td>40.799999</td>\n",
       "    </tr>\n",
       "    <tr>\n",
       "      <th>2019-01-04</th>\n",
       "      <td>NaN</td>\n",
       "      <td>42.799999</td>\n",
       "    </tr>\n",
       "    <tr>\n",
       "      <th>2019-01-07</th>\n",
       "      <td>NaN</td>\n",
       "      <td>45.200001</td>\n",
       "    </tr>\n",
       "    <tr>\n",
       "      <th>2019-01-08</th>\n",
       "      <td>NaN</td>\n",
       "      <td>46.000000</td>\n",
       "    </tr>\n",
       "    <tr>\n",
       "      <th>...</th>\n",
       "      <td>...</td>\n",
       "      <td>...</td>\n",
       "    </tr>\n",
       "    <tr>\n",
       "      <th>2021-12-10</th>\n",
       "      <td>7.15</td>\n",
       "      <td>NaN</td>\n",
       "    </tr>\n",
       "    <tr>\n",
       "      <th>2021-12-11</th>\n",
       "      <td>7.15</td>\n",
       "      <td>NaN</td>\n",
       "    </tr>\n",
       "    <tr>\n",
       "      <th>2021-12-12</th>\n",
       "      <td>3.51</td>\n",
       "      <td>NaN</td>\n",
       "    </tr>\n",
       "    <tr>\n",
       "      <th>2021-12-13</th>\n",
       "      <td>7.47</td>\n",
       "      <td>NaN</td>\n",
       "    </tr>\n",
       "    <tr>\n",
       "      <th>2021-12-14</th>\n",
       "      <td>6.66</td>\n",
       "      <td>NaN</td>\n",
       "    </tr>\n",
       "  </tbody>\n",
       "</table>\n",
       "<p>956 rows × 2 columns</p>\n",
       "</div>"
      ],
      "text/plain": [
       "            Daily Trends  Stock Price\n",
       "2019-01-02           NaN    39.400002\n",
       "2019-01-03           NaN    40.799999\n",
       "2019-01-04           NaN    42.799999\n",
       "2019-01-07           NaN    45.200001\n",
       "2019-01-08           NaN    46.000000\n",
       "...                  ...          ...\n",
       "2021-12-10          7.15          NaN\n",
       "2021-12-11          7.15          NaN\n",
       "2021-12-12          3.51          NaN\n",
       "2021-12-13          7.47          NaN\n",
       "2021-12-14          6.66          NaN\n",
       "\n",
       "[956 rows x 2 columns]"
      ]
     },
     "execution_count": 271,
     "metadata": {},
     "output_type": "execute_result"
    }
   ],
   "source": [
    "vaccine_trend_stocks = pd.concat([dailydata3.loc[:,keyword2],nvax.Close],axis=1)\n",
    "vaccine_trend_stocks.columns = [\"Daily Trends\",\"Stock Price\"]\n",
    "vaccine_trend_stocks"
   ]
  },
  {
   "cell_type": "code",
   "execution_count": 272,
   "id": "4560885e",
   "metadata": {},
   "outputs": [
    {
     "data": {
      "text/plain": [
       "2019-01-02     39.400002\n",
       "2019-01-03     40.799999\n",
       "2019-01-04     42.799999\n",
       "2019-01-07     45.200001\n",
       "2019-01-08     46.000000\n",
       "                 ...    \n",
       "2021-11-23    200.710007\n",
       "2021-11-24    200.070007\n",
       "2021-11-26    217.970001\n",
       "2021-11-29    193.960007\n",
       "2021-11-30    208.630005\n",
       "Name: Stock Price, Length: 735, dtype: float64"
      ]
     },
     "execution_count": 272,
     "metadata": {},
     "output_type": "execute_result"
    }
   ],
   "source": [
    "nvdata = vaccine_trend_stocks['Stock Price']\n",
    "nvdata = nvdata.dropna()\n",
    "nvdata\n"
   ]
  },
  {
   "cell_type": "code",
   "execution_count": 209,
   "id": "58af0f79",
   "metadata": {},
   "outputs": [],
   "source": [
    "#normalize data\n",
    "\n",
    "scaler = MinMaxScaler(feature_range=(0,1))\n",
    "\n",
    "scaled_data = scaler.fit_transform(nvdata.values.reshape(-1,1))\n"
   ]
  },
  {
   "cell_type": "code",
   "execution_count": 210,
   "id": "692b4160",
   "metadata": {},
   "outputs": [],
   "source": [
    "# how many days do i want to base my predictions on ?\n",
    "prediction_days = 60\n",
    "\n",
    "x_train = []\n",
    "y_train = []\n",
    "\n",
    "for x in range(prediction_days, len(scaled_data)):\n",
    "    x_train.append(scaled_data[x - prediction_days:x, 0])\n",
    "    y_train.append(scaled_data[x, 0])\n",
    "    \n",
    "x_train, y_train = np.array(x_train), np.array(y_train)\n",
    "x_train = np.reshape(x_train, (x_train.shape[0], x_train.shape[1], 1))"
   ]
  },
  {
   "cell_type": "code",
   "execution_count": 211,
   "id": "d71fa3a8",
   "metadata": {},
   "outputs": [],
   "source": [
    "def LSTM_model():\n",
    "    \n",
    "    model = Sequential()\n",
    "    \n",
    "    model.add(LSTM(units = 50, return_sequences = True, input_shape = (x_train.shape[1],1)))\n",
    "    model.add(Dropout(0.2))\n",
    "\n",
    "    model.add(LSTM(units = 50, return_sequences = True))\n",
    "    model.add(Dropout(0.2))\n",
    "\n",
    "    model.add(LSTM(units = 50))\n",
    "    model.add(Dropout(0.2))\n",
    "    \n",
    "    model.add(Dense(units=1))\n",
    "    \n",
    "    return model\n"
   ]
  },
  {
   "cell_type": "code",
   "execution_count": 23,
   "id": "b5a741db",
   "metadata": {},
   "outputs": [
    {
     "name": "stdout",
     "output_type": "stream",
     "text": [
      "Collecting package metadata (repodata.json): done\n",
      "Solving environment: failed\n",
      "\n",
      "PackagesNotFoundError: The following packages are missing from the target environment:\n",
      "  - numpy\n",
      "\n",
      "\n",
      "\n",
      "Note: you may need to restart the kernel to use updated packages.\n"
     ]
    }
   ],
   "source": [
    "conda uninstall numpy"
   ]
  },
  {
   "cell_type": "code",
   "execution_count": 212,
   "id": "a39714f6",
   "metadata": {},
   "outputs": [
    {
     "data": {
      "text/plain": [
       "'1.19.5'"
      ]
     },
     "execution_count": 212,
     "metadata": {},
     "output_type": "execute_result"
    }
   ],
   "source": [
    "np.__version__"
   ]
  },
  {
   "cell_type": "code",
   "execution_count": 213,
   "id": "ab2cd75f",
   "metadata": {},
   "outputs": [
    {
     "name": "stdout",
     "output_type": "stream",
     "text": [
      "Model: \"sequential_5\"\n",
      "_________________________________________________________________\n",
      "Layer (type)                 Output Shape              Param #   \n",
      "=================================================================\n",
      "lstm_12 (LSTM)               (None, 60, 50)            10400     \n",
      "_________________________________________________________________\n",
      "dropout_9 (Dropout)          (None, 60, 50)            0         \n",
      "_________________________________________________________________\n",
      "lstm_13 (LSTM)               (None, 60, 50)            20200     \n",
      "_________________________________________________________________\n",
      "dropout_10 (Dropout)         (None, 60, 50)            0         \n",
      "_________________________________________________________________\n",
      "lstm_14 (LSTM)               (None, 50)                20200     \n",
      "_________________________________________________________________\n",
      "dropout_11 (Dropout)         (None, 50)                0         \n",
      "_________________________________________________________________\n",
      "dense_5 (Dense)              (None, 1)                 51        \n",
      "=================================================================\n",
      "Total params: 50,851\n",
      "Trainable params: 50,851\n",
      "Non-trainable params: 0\n",
      "_________________________________________________________________\n"
     ]
    }
   ],
   "source": [
    "model = LSTM_model()\n",
    "model.summary()\n",
    "model.compile(optimizer='adam', \n",
    "              loss='mean_squared_error')\n"
   ]
  },
  {
   "cell_type": "code",
   "execution_count": 214,
   "id": "571f87e9",
   "metadata": {},
   "outputs": [
    {
     "name": "stdout",
     "output_type": "stream",
     "text": [
      "Train on 639 samples\n",
      "Epoch 1/25\n"
     ]
    },
    {
     "name": "stderr",
     "output_type": "stream",
     "text": [
      "2021-12-16 00:45:17.453751: W tensorflow/core/grappler/optimizers/implementation_selector.cc:310] Skipping optimization due to error while loading function libraries: Invalid argument: Functions '__inference___backward_standard_lstm_44740_45225' and '__inference___backward_standard_lstm_44740_45225_specialized_for_StatefulPartitionedCall_1_at___inference_distributed_function_45878' both implement 'lstm_5b891847-dfa8-4021-9613-f8e8285e7b0c' but their signatures do not match.\n"
     ]
    },
    {
     "name": "stdout",
     "output_type": "stream",
     "text": [
      "608/639 [===========================>..] - ETA: 0s - loss: 0.0276WARNING:tensorflow:Can save best model only with val_loss available, skipping.\n",
      "639/639 [==============================] - 13s 20ms/sample - loss: 0.0269\n",
      "Epoch 2/25\n",
      "608/639 [===========================>..] - ETA: 0s - loss: 0.0110WARNING:tensorflow:Can save best model only with val_loss available, skipping.\n",
      "639/639 [==============================] - 7s 10ms/sample - loss: 0.0109\n",
      "Epoch 3/25\n",
      "608/639 [===========================>..] - ETA: 0s - loss: 0.0101WARNING:tensorflow:Can save best model only with val_loss available, skipping.\n",
      "639/639 [==============================] - 7s 11ms/sample - loss: 0.0099\n",
      "Epoch 4/25\n",
      "608/639 [===========================>..] - ETA: 0s - loss: 0.0077WARNING:tensorflow:Can save best model only with val_loss available, skipping.\n",
      "639/639 [==============================] - 7s 11ms/sample - loss: 0.0076\n",
      "Epoch 5/25\n",
      "608/639 [===========================>..] - ETA: 0s - loss: 0.0083WARNING:tensorflow:Can save best model only with val_loss available, skipping.\n",
      "639/639 [==============================] - 7s 11ms/sample - loss: 0.0082\n",
      "Epoch 6/25\n",
      "608/639 [===========================>..] - ETA: 0s - loss: 0.0075WARNING:tensorflow:Can save best model only with val_loss available, skipping.\n",
      "639/639 [==============================] - 7s 11ms/sample - loss: 0.0075\n",
      "Epoch 7/25\n",
      "608/639 [===========================>..] - ETA: 0s - loss: 0.0071WARNING:tensorflow:Can save best model only with val_loss available, skipping.\n",
      "639/639 [==============================] - 6s 10ms/sample - loss: 0.0069\n",
      "Epoch 8/25\n",
      "608/639 [===========================>..] - ETA: 0s - loss: 0.0070WARNING:tensorflow:Can save best model only with val_loss available, skipping.\n",
      "639/639 [==============================] - 7s 10ms/sample - loss: 0.0074\n",
      "Epoch 9/25\n",
      "608/639 [===========================>..] - ETA: 0s - loss: 0.0060WARNING:tensorflow:Can save best model only with val_loss available, skipping.\n",
      "639/639 [==============================] - 6s 10ms/sample - loss: 0.0060\n",
      "Epoch 10/25\n",
      "608/639 [===========================>..] - ETA: 0s - loss: 0.0062WARNING:tensorflow:Can save best model only with val_loss available, skipping.\n",
      "639/639 [==============================] - 6s 10ms/sample - loss: 0.0060\n",
      "Epoch 11/25\n",
      "608/639 [===========================>..] - ETA: 0s - loss: 0.0059WARNING:tensorflow:Can save best model only with val_loss available, skipping.\n",
      "639/639 [==============================] - 7s 10ms/sample - loss: 0.0058\n",
      "Epoch 12/25\n",
      "608/639 [===========================>..] - ETA: 0s - loss: 0.0055WARNING:tensorflow:Can save best model only with val_loss available, skipping.\n",
      "639/639 [==============================] - 6s 10ms/sample - loss: 0.0055\n",
      "Epoch 13/25\n",
      "608/639 [===========================>..] - ETA: 0s - loss: 0.0053WARNING:tensorflow:Can save best model only with val_loss available, skipping.\n",
      "639/639 [==============================] - 6s 10ms/sample - loss: 0.0053\n",
      "Epoch 14/25\n",
      "608/639 [===========================>..] - ETA: 0s - loss: 0.0054WARNING:tensorflow:Can save best model only with val_loss available, skipping.\n",
      "639/639 [==============================] - 6s 10ms/sample - loss: 0.0052\n",
      "Epoch 15/25\n",
      "608/639 [===========================>..] - ETA: 0s - loss: 0.0048WARNING:tensorflow:Can save best model only with val_loss available, skipping.\n",
      "639/639 [==============================] - 6s 10ms/sample - loss: 0.0049\n",
      "Epoch 16/25\n",
      "608/639 [===========================>..] - ETA: 0s - loss: 0.0048WARNING:tensorflow:Can save best model only with val_loss available, skipping.\n",
      "639/639 [==============================] - 7s 10ms/sample - loss: 0.0048\n",
      "Epoch 17/25\n",
      "608/639 [===========================>..] - ETA: 0s - loss: 0.0042WARNING:tensorflow:Can save best model only with val_loss available, skipping.\n",
      "639/639 [==============================] - 6s 10ms/sample - loss: 0.0042\n",
      "Epoch 18/25\n",
      "608/639 [===========================>..] - ETA: 0s - loss: 0.0043WARNING:tensorflow:Can save best model only with val_loss available, skipping.\n",
      "639/639 [==============================] - 6s 10ms/sample - loss: 0.0044\n",
      "Epoch 19/25\n",
      "608/639 [===========================>..] - ETA: 0s - loss: 0.0056WARNING:tensorflow:Can save best model only with val_loss available, skipping.\n",
      "639/639 [==============================] - 6s 10ms/sample - loss: 0.0054\n",
      "Epoch 20/25\n",
      "608/639 [===========================>..] - ETA: 0s - loss: 0.0051WARNING:tensorflow:Can save best model only with val_loss available, skipping.\n",
      "639/639 [==============================] - 6s 10ms/sample - loss: 0.0053\n",
      "Epoch 21/25\n",
      "608/639 [===========================>..] - ETA: 0s - loss: 0.0045WARNING:tensorflow:Can save best model only with val_loss available, skipping.\n",
      "639/639 [==============================] - 7s 10ms/sample - loss: 0.0047\n",
      "Epoch 22/25\n",
      "608/639 [===========================>..] - ETA: 0s - loss: 0.0041WARNING:tensorflow:Can save best model only with val_loss available, skipping.\n",
      "639/639 [==============================] - 6s 10ms/sample - loss: 0.0040\n",
      "Epoch 23/25\n",
      "608/639 [===========================>..] - ETA: 0s - loss: 0.0041WARNING:tensorflow:Can save best model only with val_loss available, skipping.\n",
      "639/639 [==============================] - 6s 10ms/sample - loss: 0.0041\n",
      "Epoch 24/25\n",
      "608/639 [===========================>..] - ETA: 0s - loss: 0.0044WARNING:tensorflow:Can save best model only with val_loss available, skipping.\n",
      "639/639 [==============================] - 6s 10ms/sample - loss: 0.0044\n",
      "Epoch 25/25\n",
      "608/639 [===========================>..] - ETA: 0s - loss: 0.0041WARNING:tensorflow:Can save best model only with val_loss available, skipping.\n",
      "639/639 [==============================] - 6s 10ms/sample - loss: 0.0040\n"
     ]
    },
    {
     "ename": "TypeError",
     "evalue": "from_bounds() argument after * must be an iterable, not int",
     "output_type": "error",
     "traceback": [
      "\u001b[0;31m---------------------------------------------------------------------------\u001b[0m",
      "\u001b[0;31mTypeError\u001b[0m                                 Traceback (most recent call last)",
      "\u001b[0;32m/var/folders/f_/x5m3k_3n04jcdn159l0x1td80000gn/T/ipykernel_22400/3204467375.py\u001b[0m in \u001b[0;36m<module>\u001b[0;34m\u001b[0m\n\u001b[1;32m     12\u001b[0m           callbacks = [checkpointer])\n\u001b[1;32m     13\u001b[0m \u001b[0;34m\u001b[0m\u001b[0m\n\u001b[0;32m---> 14\u001b[0;31m \u001b[0mplt\u001b[0m\u001b[0;34m.\u001b[0m\u001b[0mfigure\u001b[0m\u001b[0;34m(\u001b[0m\u001b[0;36m15\u001b[0m\u001b[0;34m,\u001b[0m\u001b[0;36m8\u001b[0m\u001b[0;34m)\u001b[0m\u001b[0;34m\u001b[0m\u001b[0;34m\u001b[0m\u001b[0m\n\u001b[0m\u001b[1;32m     15\u001b[0m \u001b[0mplt\u001b[0m\u001b[0;34m.\u001b[0m\u001b[0mplot\u001b[0m\u001b[0;34m(\u001b[0m\u001b[0mhistory\u001b[0m\u001b[0;34m.\u001b[0m\u001b[0mhistory\u001b[0m\u001b[0;34m[\u001b[0m\u001b[0;34m'loss'\u001b[0m\u001b[0;34m]\u001b[0m\u001b[0;34m,\u001b[0m \u001b[0mlabel\u001b[0m\u001b[0;34m=\u001b[0m\u001b[0;34m'Training loss'\u001b[0m\u001b[0;34m)\u001b[0m\u001b[0;34m\u001b[0m\u001b[0;34m\u001b[0m\u001b[0m\n\u001b[1;32m     16\u001b[0m \u001b[0mplt\u001b[0m\u001b[0;34m.\u001b[0m\u001b[0mplot\u001b[0m\u001b[0;34m(\u001b[0m\u001b[0mhistory\u001b[0m\u001b[0;34m.\u001b[0m\u001b[0mhistory\u001b[0m\u001b[0;34m[\u001b[0m\u001b[0;34m'val_loss'\u001b[0m\u001b[0;34m]\u001b[0m\u001b[0;34m,\u001b[0m \u001b[0mlabel\u001b[0m\u001b[0;34m=\u001b[0m\u001b[0;34m'Validation loss'\u001b[0m\u001b[0;34m)\u001b[0m\u001b[0;34m\u001b[0m\u001b[0;34m\u001b[0m\u001b[0m\n",
      "\u001b[0;32m~/opt/anaconda3/envs/tf/lib/python3.7/site-packages/matplotlib/pyplot.py\u001b[0m in \u001b[0;36mfigure\u001b[0;34m(num, figsize, dpi, facecolor, edgecolor, frameon, FigureClass, clear, **kwargs)\u001b[0m\n\u001b[1;32m    788\u001b[0m             \u001b[0mnum\u001b[0m\u001b[0;34m,\u001b[0m \u001b[0mfigsize\u001b[0m\u001b[0;34m=\u001b[0m\u001b[0mfigsize\u001b[0m\u001b[0;34m,\u001b[0m \u001b[0mdpi\u001b[0m\u001b[0;34m=\u001b[0m\u001b[0mdpi\u001b[0m\u001b[0;34m,\u001b[0m\u001b[0;34m\u001b[0m\u001b[0;34m\u001b[0m\u001b[0m\n\u001b[1;32m    789\u001b[0m             \u001b[0mfacecolor\u001b[0m\u001b[0;34m=\u001b[0m\u001b[0mfacecolor\u001b[0m\u001b[0;34m,\u001b[0m \u001b[0medgecolor\u001b[0m\u001b[0;34m=\u001b[0m\u001b[0medgecolor\u001b[0m\u001b[0;34m,\u001b[0m \u001b[0mframeon\u001b[0m\u001b[0;34m=\u001b[0m\u001b[0mframeon\u001b[0m\u001b[0;34m,\u001b[0m\u001b[0;34m\u001b[0m\u001b[0;34m\u001b[0m\u001b[0m\n\u001b[0;32m--> 790\u001b[0;31m             FigureClass=FigureClass, **kwargs)\n\u001b[0m\u001b[1;32m    791\u001b[0m         \u001b[0mfig\u001b[0m \u001b[0;34m=\u001b[0m \u001b[0mmanager\u001b[0m\u001b[0;34m.\u001b[0m\u001b[0mcanvas\u001b[0m\u001b[0;34m.\u001b[0m\u001b[0mfigure\u001b[0m\u001b[0;34m\u001b[0m\u001b[0;34m\u001b[0m\u001b[0m\n\u001b[1;32m    792\u001b[0m         \u001b[0;32mif\u001b[0m \u001b[0mfig_label\u001b[0m\u001b[0;34m:\u001b[0m\u001b[0;34m\u001b[0m\u001b[0;34m\u001b[0m\u001b[0m\n",
      "\u001b[0;32m~/opt/anaconda3/envs/tf/lib/python3.7/site-packages/matplotlib/pyplot.py\u001b[0m in \u001b[0;36mnew_figure_manager\u001b[0;34m(*args, **kwargs)\u001b[0m\n\u001b[1;32m    304\u001b[0m     \u001b[0;34m\"\"\"Create a new figure manager instance.\"\"\"\u001b[0m\u001b[0;34m\u001b[0m\u001b[0;34m\u001b[0m\u001b[0m\n\u001b[1;32m    305\u001b[0m     \u001b[0m_warn_if_gui_out_of_main_thread\u001b[0m\u001b[0;34m(\u001b[0m\u001b[0;34m)\u001b[0m\u001b[0;34m\u001b[0m\u001b[0;34m\u001b[0m\u001b[0m\n\u001b[0;32m--> 306\u001b[0;31m     \u001b[0;32mreturn\u001b[0m \u001b[0m_backend_mod\u001b[0m\u001b[0;34m.\u001b[0m\u001b[0mnew_figure_manager\u001b[0m\u001b[0;34m(\u001b[0m\u001b[0;34m*\u001b[0m\u001b[0margs\u001b[0m\u001b[0;34m,\u001b[0m \u001b[0;34m**\u001b[0m\u001b[0mkwargs\u001b[0m\u001b[0;34m)\u001b[0m\u001b[0;34m\u001b[0m\u001b[0;34m\u001b[0m\u001b[0m\n\u001b[0m\u001b[1;32m    307\u001b[0m \u001b[0;34m\u001b[0m\u001b[0m\n\u001b[1;32m    308\u001b[0m \u001b[0;34m\u001b[0m\u001b[0m\n",
      "\u001b[0;32m~/opt/anaconda3/envs/tf/lib/python3.7/site-packages/matplotlib/backend_bases.py\u001b[0m in \u001b[0;36mnew_figure_manager\u001b[0;34m(cls, num, *args, **kwargs)\u001b[0m\n\u001b[1;32m   3471\u001b[0m         \u001b[0;32mfrom\u001b[0m \u001b[0mmatplotlib\u001b[0m\u001b[0;34m.\u001b[0m\u001b[0mfigure\u001b[0m \u001b[0;32mimport\u001b[0m \u001b[0mFigure\u001b[0m\u001b[0;34m\u001b[0m\u001b[0;34m\u001b[0m\u001b[0m\n\u001b[1;32m   3472\u001b[0m         \u001b[0mfig_cls\u001b[0m \u001b[0;34m=\u001b[0m \u001b[0mkwargs\u001b[0m\u001b[0;34m.\u001b[0m\u001b[0mpop\u001b[0m\u001b[0;34m(\u001b[0m\u001b[0;34m'FigureClass'\u001b[0m\u001b[0;34m,\u001b[0m \u001b[0mFigure\u001b[0m\u001b[0;34m)\u001b[0m\u001b[0;34m\u001b[0m\u001b[0;34m\u001b[0m\u001b[0m\n\u001b[0;32m-> 3473\u001b[0;31m         \u001b[0mfig\u001b[0m \u001b[0;34m=\u001b[0m \u001b[0mfig_cls\u001b[0m\u001b[0;34m(\u001b[0m\u001b[0;34m*\u001b[0m\u001b[0margs\u001b[0m\u001b[0;34m,\u001b[0m \u001b[0;34m**\u001b[0m\u001b[0mkwargs\u001b[0m\u001b[0;34m)\u001b[0m\u001b[0;34m\u001b[0m\u001b[0;34m\u001b[0m\u001b[0m\n\u001b[0m\u001b[1;32m   3474\u001b[0m         \u001b[0;32mreturn\u001b[0m \u001b[0mcls\u001b[0m\u001b[0;34m.\u001b[0m\u001b[0mnew_figure_manager_given_figure\u001b[0m\u001b[0;34m(\u001b[0m\u001b[0mnum\u001b[0m\u001b[0;34m,\u001b[0m \u001b[0mfig\u001b[0m\u001b[0;34m)\u001b[0m\u001b[0;34m\u001b[0m\u001b[0;34m\u001b[0m\u001b[0m\n\u001b[1;32m   3475\u001b[0m \u001b[0;34m\u001b[0m\u001b[0m\n",
      "\u001b[0;32m~/opt/anaconda3/envs/tf/lib/python3.7/site-packages/matplotlib/figure.py\u001b[0m in \u001b[0;36m__init__\u001b[0;34m(self, figsize, dpi, facecolor, edgecolor, linewidth, frameon, subplotpars, tight_layout, constrained_layout, layout, **kwargs)\u001b[0m\n\u001b[1;32m   2273\u001b[0m             raise ValueError('figure size must be positive finite not '\n\u001b[1;32m   2274\u001b[0m                              f'{figsize}')\n\u001b[0;32m-> 2275\u001b[0;31m         \u001b[0mself\u001b[0m\u001b[0;34m.\u001b[0m\u001b[0mbbox_inches\u001b[0m \u001b[0;34m=\u001b[0m \u001b[0mBbox\u001b[0m\u001b[0;34m.\u001b[0m\u001b[0mfrom_bounds\u001b[0m\u001b[0;34m(\u001b[0m\u001b[0;36m0\u001b[0m\u001b[0;34m,\u001b[0m \u001b[0;36m0\u001b[0m\u001b[0;34m,\u001b[0m \u001b[0;34m*\u001b[0m\u001b[0mfigsize\u001b[0m\u001b[0;34m)\u001b[0m\u001b[0;34m\u001b[0m\u001b[0;34m\u001b[0m\u001b[0m\n\u001b[0m\u001b[1;32m   2276\u001b[0m \u001b[0;34m\u001b[0m\u001b[0m\n\u001b[1;32m   2277\u001b[0m         \u001b[0mself\u001b[0m\u001b[0;34m.\u001b[0m\u001b[0mdpi_scale_trans\u001b[0m \u001b[0;34m=\u001b[0m \u001b[0mAffine2D\u001b[0m\u001b[0;34m(\u001b[0m\u001b[0;34m)\u001b[0m\u001b[0;34m.\u001b[0m\u001b[0mscale\u001b[0m\u001b[0;34m(\u001b[0m\u001b[0mdpi\u001b[0m\u001b[0;34m)\u001b[0m\u001b[0;34m\u001b[0m\u001b[0;34m\u001b[0m\u001b[0m\n",
      "\u001b[0;31mTypeError\u001b[0m: from_bounds() argument after * must be an iterable, not int"
     ]
    }
   ],
   "source": [
    "# Define callbacks\n",
    "\n",
    "# Save weights only for best model\n",
    "checkpointer = ModelCheckpoint(filepath = 'weights_best.hdf5', \n",
    "                               verbose = 2, \n",
    "                               save_best_only = True)\n",
    "\n",
    "history = model.fit(x_train, \n",
    "          y_train, \n",
    "          epochs=25, \n",
    "          batch_size = 32,\n",
    "          callbacks = [checkpointer])\n",
    "\n",
    "plt.figure(figsize = (15,8))\n",
    "plt.plot(history.history['loss'], label='Training loss')\n",
    "plt.plot(history.history['val_loss'], label='Validation loss')\n",
    "plt.legend()\n"
   ]
  },
  {
   "cell_type": "code",
   "execution_count": 220,
   "id": "c80bd362",
   "metadata": {},
   "outputs": [
    {
     "data": {
      "text/plain": [
       "{'loss': [0.026926272077972713,\n",
       "  0.010876715592806795,\n",
       "  0.009909626986271758,\n",
       "  0.007623124616264318,\n",
       "  0.008182856577108957,\n",
       "  0.007495504457077976,\n",
       "  0.006859768629482188,\n",
       "  0.007433795429917755,\n",
       "  0.006004958494430836,\n",
       "  0.006040251238857496,\n",
       "  0.00578370885610149,\n",
       "  0.0054689986661881065,\n",
       "  0.00533347018500309,\n",
       "  0.005229023133269008,\n",
       "  0.004900609745012949,\n",
       "  0.004810670254451801,\n",
       "  0.004225955972905636,\n",
       "  0.004382403694961879,\n",
       "  0.005410629121298102,\n",
       "  0.005282111990619713,\n",
       "  0.0046777581010474375,\n",
       "  0.00402593909775917,\n",
       "  0.0040624168904058065,\n",
       "  0.004414552915258354,\n",
       "  0.0039749324353811144]}"
      ]
     },
     "execution_count": 220,
     "metadata": {},
     "output_type": "execute_result"
    }
   ],
   "source": [
    "history.history"
   ]
  },
  {
   "cell_type": "code",
   "execution_count": 215,
   "id": "3f441812",
   "metadata": {},
   "outputs": [
    {
     "ename": "KeyError",
     "evalue": "'val_loss'",
     "output_type": "error",
     "traceback": [
      "\u001b[0;31m---------------------------------------------------------------------------\u001b[0m",
      "\u001b[0;31mKeyError\u001b[0m                                  Traceback (most recent call last)",
      "\u001b[0;32m/var/folders/f_/x5m3k_3n04jcdn159l0x1td80000gn/T/ipykernel_22400/3782657166.py\u001b[0m in \u001b[0;36m<module>\u001b[0;34m\u001b[0m\n\u001b[1;32m      1\u001b[0m \u001b[0mplt\u001b[0m\u001b[0;34m.\u001b[0m\u001b[0mfigure\u001b[0m\u001b[0;34m(\u001b[0m\u001b[0mfigsize\u001b[0m \u001b[0;34m=\u001b[0m \u001b[0;34m(\u001b[0m\u001b[0;36m15\u001b[0m\u001b[0;34m,\u001b[0m\u001b[0;36m8\u001b[0m\u001b[0;34m)\u001b[0m\u001b[0;34m)\u001b[0m\u001b[0;34m\u001b[0m\u001b[0;34m\u001b[0m\u001b[0m\n\u001b[1;32m      2\u001b[0m \u001b[0mplt\u001b[0m\u001b[0;34m.\u001b[0m\u001b[0mplot\u001b[0m\u001b[0;34m(\u001b[0m\u001b[0mhistory\u001b[0m\u001b[0;34m.\u001b[0m\u001b[0mhistory\u001b[0m\u001b[0;34m[\u001b[0m\u001b[0;34m'loss'\u001b[0m\u001b[0;34m]\u001b[0m\u001b[0;34m,\u001b[0m \u001b[0mlabel\u001b[0m\u001b[0;34m=\u001b[0m\u001b[0;34m'Training loss'\u001b[0m\u001b[0;34m)\u001b[0m\u001b[0;34m\u001b[0m\u001b[0;34m\u001b[0m\u001b[0m\n\u001b[0;32m----> 3\u001b[0;31m \u001b[0mplt\u001b[0m\u001b[0;34m.\u001b[0m\u001b[0mplot\u001b[0m\u001b[0;34m(\u001b[0m\u001b[0mhistory\u001b[0m\u001b[0;34m.\u001b[0m\u001b[0mhistory\u001b[0m\u001b[0;34m[\u001b[0m\u001b[0;34m'val_loss'\u001b[0m\u001b[0;34m]\u001b[0m\u001b[0;34m,\u001b[0m \u001b[0mlabel\u001b[0m\u001b[0;34m=\u001b[0m\u001b[0;34m'Validation loss'\u001b[0m\u001b[0;34m)\u001b[0m\u001b[0;34m\u001b[0m\u001b[0;34m\u001b[0m\u001b[0m\n\u001b[0m\u001b[1;32m      4\u001b[0m \u001b[0mplt\u001b[0m\u001b[0;34m.\u001b[0m\u001b[0mlegend\u001b[0m\u001b[0;34m(\u001b[0m\u001b[0;34m)\u001b[0m\u001b[0;34m\u001b[0m\u001b[0;34m\u001b[0m\u001b[0m\n\u001b[1;32m      5\u001b[0m \u001b[0;34m\u001b[0m\u001b[0m\n",
      "\u001b[0;31mKeyError\u001b[0m: 'val_loss'"
     ]
    },
    {
     "data": {
      "image/png": "[encoded data removed]",
      "text/plain": [
       "<Figure size 1080x576 with 1 Axes>"
      ]
     },
     "metadata": {
      "needs_background": "light"
     },
     "output_type": "display_data"
    }
   ],
   "source": [
    "\n",
    "plt.figure(figsize = (15,8))\n",
    "plt.plot(history.history['loss'], label='Training loss')\n",
    "plt.plot(history.history['val_loss'], label='Validation loss')\n",
    "plt.legend()\n",
    "\n"
   ]
  },
  {
   "cell_type": "code",
   "execution_count": 221,
   "id": "652a4853",
   "metadata": {},
   "outputs": [],
   "source": [
    "# test model accuracy on existing data\n",
    "\n",
    "test_data = cp.history(start= end , end = dt.datetime.now())\n",
    "\n",
    "actual_prices = test_data['Close'].values\n",
    "\n",
    "total_dataset = pd.concat((nvdata, test_data['Close']), axis=0)\n",
    "\n",
    "model_inputs = total_dataset[len(total_dataset) - len(test_data) - prediction_days:].values\n",
    "model_inputs = model_inputs.reshape(-1,1)\n",
    "model_inputs = scaler.transform(model_inputs)"
   ]
  },
  {
   "cell_type": "code",
   "execution_count": 222,
   "id": "b1c6d045",
   "metadata": {},
   "outputs": [
    {
     "name": "stderr",
     "output_type": "stream",
     "text": [
      "2021-12-16 01:14:33.353539: W tensorflow/core/grappler/optimizers/implementation_selector.cc:310] Skipping optimization due to error while loading function libraries: Invalid argument: Functions '__inference_cudnn_lstm_with_fallback_47694' and '__inference_standard_lstm_47583_specialized_for_sequential_5_lstm_13_StatefulPartitionedCall_at___inference_distributed_function_48356' both implement 'lstm_a004c9cf-fd5d-4fbe-8c78-46c388635313' but their signatures do not match.\n"
     ]
    }
   ],
   "source": [
    "x_test = []\n",
    "for x in range(prediction_days, len(model_inputs)):\n",
    "    x_test.append(model_inputs[x-prediction_days:x, 0])\n",
    "\n",
    "x_test = np.array(x_test)\n",
    "x_test = np.reshape(x_test, (x_test.shape[0], x_test.shape[1] ,1))\n",
    "\n",
    "predicted_prices = model.predict(x_test)\n",
    "predicted_prices = scaler.inverse_transform(predicted_prices)\n"
   ]
  },
  {
   "cell_type": "code",
   "execution_count": 226,
   "id": "170188f9",
   "metadata": {},
   "outputs": [
    {
     "data": {
      "image/png": "[encoded data removed]",
      "text/plain": [
       "<Figure size 1200x640 with 1 Axes>"
      ]
     },
     "metadata": {
      "needs_background": "light"
     },
     "output_type": "display_data"
    }
   ],
   "source": [
    "plt.figure(figsize=(15,8),dpi=80)\n",
    "plt.plot(actual_prices, color='blue', label=\"Actual price\")\n",
    "plt.plot(predicted_prices, color= 'red', label=\"predicted price\")\n",
    "plt.title('nvax stock price')\n",
    "plt.xlabel(\"time\")\n",
    "plt.ylabel(\"nvax\" )\n",
    "plt.legend()\n",
    "plt.show()"
   ]
  },
  {
   "cell_type": "code",
   "execution_count": 227,
   "id": "8a0dc440",
   "metadata": {},
   "outputs": [
    {
     "name": "stdout",
     "output_type": "stream",
     "text": [
      "MSE: 515.5824323505649\n",
      "MAE: 17.70271950579704\n",
      "RMSE: 22.706440327593512\n",
      "MAPE: 0.13599337888173835\n"
     ]
    }
   ],
   "source": [
    "from sklearn.metrics import mean_squared_error, mean_absolute_error\n",
    "import math\n",
    "# report performance\n",
    "mse = mean_squared_error(actual_prices, predicted_prices)\n",
    "print('MSE: '+str(mse))\n",
    "mae = mean_absolute_error(actual_prices, predicted_prices)\n",
    "print('MAE: '+str(mae))\n",
    "rmse = math.sqrt(mean_squared_error(actual_prices, predicted_prices))\n",
    "print('RMSE: '+str(rmse))\n",
    "mape = np.mean(np.abs(predicted_prices - actual_prices)/np.abs(actual_prices))\n",
    "print('MAPE: '+str(mape))\n"
   ]
  },
  {
   "cell_type": "code",
   "execution_count": null,
   "id": "92e4de1f",
   "metadata": {},
   "outputs": [],
   "source": []
  },
  {
   "cell_type": "code",
   "execution_count": 41,
   "id": "bd8b6911",
   "metadata": {},
   "outputs": [],
   "source": [
    "from sklearn.preprocessing import StandardScaler\n",
    "import seaborn as sns"
   ]
  },
  {
   "cell_type": "code",
   "execution_count": 273,
   "id": "6f494add",
   "metadata": {},
   "outputs": [
    {
     "data": {
      "text/html": [
       "<div>\n",
       "<style scoped>\n",
       "    .dataframe tbody tr th:only-of-type {\n",
       "        vertical-align: middle;\n",
       "    }\n",
       "\n",
       "    .dataframe tbody tr th {\n",
       "        vertical-align: top;\n",
       "    }\n",
       "\n",
       "    .dataframe thead th {\n",
       "        text-align: right;\n",
       "    }\n",
       "</style>\n",
       "<table border=\"1\" class=\"dataframe\">\n",
       "  <thead>\n",
       "    <tr style=\"text-align: right;\">\n",
       "      <th></th>\n",
       "      <th>date</th>\n",
       "      <th>price</th>\n",
       "      <th>trend</th>\n",
       "    </tr>\n",
       "  </thead>\n",
       "  <tbody>\n",
       "    <tr>\n",
       "      <th>275</th>\n",
       "      <td>2020-02-03</td>\n",
       "      <td>6.810000</td>\n",
       "      <td>0.00</td>\n",
       "    </tr>\n",
       "    <tr>\n",
       "      <th>276</th>\n",
       "      <td>2020-02-04</td>\n",
       "      <td>7.010000</td>\n",
       "      <td>0.00</td>\n",
       "    </tr>\n",
       "    <tr>\n",
       "      <th>277</th>\n",
       "      <td>2020-02-05</td>\n",
       "      <td>6.970000</td>\n",
       "      <td>0.00</td>\n",
       "    </tr>\n",
       "    <tr>\n",
       "      <th>278</th>\n",
       "      <td>2020-02-06</td>\n",
       "      <td>6.840000</td>\n",
       "      <td>0.00</td>\n",
       "    </tr>\n",
       "    <tr>\n",
       "      <th>279</th>\n",
       "      <td>2020-02-07</td>\n",
       "      <td>6.310000</td>\n",
       "      <td>0.00</td>\n",
       "    </tr>\n",
       "    <tr>\n",
       "      <th>...</th>\n",
       "      <td>...</td>\n",
       "      <td>...</td>\n",
       "      <td>...</td>\n",
       "    </tr>\n",
       "    <tr>\n",
       "      <th>934</th>\n",
       "      <td>2021-11-23</td>\n",
       "      <td>200.710007</td>\n",
       "      <td>6.16</td>\n",
       "    </tr>\n",
       "    <tr>\n",
       "      <th>935</th>\n",
       "      <td>2021-11-24</td>\n",
       "      <td>200.070007</td>\n",
       "      <td>6.05</td>\n",
       "    </tr>\n",
       "    <tr>\n",
       "      <th>937</th>\n",
       "      <td>2021-11-26</td>\n",
       "      <td>217.970001</td>\n",
       "      <td>6.38</td>\n",
       "    </tr>\n",
       "    <tr>\n",
       "      <th>940</th>\n",
       "      <td>2021-11-29</td>\n",
       "      <td>193.960007</td>\n",
       "      <td>8.76</td>\n",
       "    </tr>\n",
       "    <tr>\n",
       "      <th>941</th>\n",
       "      <td>2021-11-30</td>\n",
       "      <td>208.630005</td>\n",
       "      <td>10.80</td>\n",
       "    </tr>\n",
       "  </tbody>\n",
       "</table>\n",
       "<p>462 rows × 3 columns</p>\n",
       "</div>"
      ],
      "text/plain": [
       "          date       price  trend\n",
       "275 2020-02-03    6.810000   0.00\n",
       "276 2020-02-04    7.010000   0.00\n",
       "277 2020-02-05    6.970000   0.00\n",
       "278 2020-02-06    6.840000   0.00\n",
       "279 2020-02-07    6.310000   0.00\n",
       "..         ...         ...    ...\n",
       "934 2021-11-23  200.710007   6.16\n",
       "935 2021-11-24  200.070007   6.05\n",
       "937 2021-11-26  217.970001   6.38\n",
       "940 2021-11-29  193.960007   8.76\n",
       "941 2021-11-30  208.630005  10.80\n",
       "\n",
       "[462 rows x 3 columns]"
      ]
     },
     "execution_count": 273,
     "metadata": {},
     "output_type": "execute_result"
    }
   ],
   "source": [
    "df = pd.concat([nvax.Close,dailydata3.loc[:,keyword2]],axis=1)\n",
    "df.reset_index(inplace=True)\n",
    "df.columns = ['date','price','trend']\n",
    "df = df.dropna()\n",
    "df"
   ]
  },
  {
   "cell_type": "code",
   "execution_count": 274,
   "id": "e625e525",
   "metadata": {},
   "outputs": [
    {
     "name": "stdout",
     "output_type": "stream",
     "text": [
      "920   2021-11-09\n",
      "921   2021-11-10\n",
      "922   2021-11-11\n",
      "923   2021-11-12\n",
      "926   2021-11-15\n",
      "927   2021-11-16\n",
      "928   2021-11-17\n",
      "929   2021-11-18\n",
      "930   2021-11-19\n",
      "933   2021-11-22\n",
      "934   2021-11-23\n",
      "935   2021-11-24\n",
      "937   2021-11-26\n",
      "940   2021-11-29\n",
      "941   2021-11-30\n",
      "Name: date, dtype: datetime64[ns]\n"
     ]
    }
   ],
   "source": [
    "#Separate dates for future plotting\n",
    "train_dates = pd.to_datetime(df['date'])\n",
    "print(train_dates.tail(15)) #Check last few dates. \n"
   ]
  },
  {
   "cell_type": "code",
   "execution_count": 275,
   "id": "7dee2de5",
   "metadata": {},
   "outputs": [
    {
     "name": "stdout",
     "output_type": "stream",
     "text": [
      "920   2021-11-09\n",
      "921   2021-11-10\n",
      "922   2021-11-11\n",
      "923   2021-11-12\n",
      "926   2021-11-15\n",
      "927   2021-11-16\n",
      "928   2021-11-17\n",
      "929   2021-11-18\n",
      "930   2021-11-19\n",
      "933   2021-11-22\n",
      "934   2021-11-23\n",
      "935   2021-11-24\n",
      "937   2021-11-26\n",
      "940   2021-11-29\n",
      "941   2021-11-30\n",
      "Name: date, dtype: datetime64[ns]\n"
     ]
    }
   ],
   "source": [
    "#Separate dates for future plotting\n",
    "train_dates_2 = pd.to_datetime(df['date'])\n",
    "print(train_dates.tail(15)) #Check last few dates. \n"
   ]
  },
  {
   "cell_type": "code",
   "execution_count": 276,
   "id": "bc157cce",
   "metadata": {},
   "outputs": [],
   "source": [
    "df_2 = df[['date','price']]"
   ]
  },
  {
   "cell_type": "code",
   "execution_count": 277,
   "id": "ed46d3b1",
   "metadata": {},
   "outputs": [
    {
     "data": {
      "text/plain": [
       "['price', 'trend']"
      ]
     },
     "execution_count": 277,
     "metadata": {},
     "output_type": "execute_result"
    }
   ],
   "source": [
    "cols = list(df)[1:]\n",
    "cols"
   ]
  },
  {
   "cell_type": "code",
   "execution_count": 278,
   "id": "9c0604a4",
   "metadata": {},
   "outputs": [
    {
     "data": {
      "text/plain": [
       "['price']"
      ]
     },
     "execution_count": 278,
     "metadata": {},
     "output_type": "execute_result"
    }
   ],
   "source": [
    "cols2 = list(df_2)[1:]\n",
    "cols2"
   ]
  },
  {
   "cell_type": "code",
   "execution_count": 279,
   "id": "cd4e703c",
   "metadata": {},
   "outputs": [],
   "source": [
    "df_for_training_2 = df_2[cols2].astype(float)"
   ]
  },
  {
   "cell_type": "code",
   "execution_count": 280,
   "id": "b53389fc",
   "metadata": {},
   "outputs": [],
   "source": [
    "df_for_training = df[cols].astype(float)"
   ]
  },
  {
   "cell_type": "code",
   "execution_count": 281,
   "id": "544124d8",
   "metadata": {},
   "outputs": [],
   "source": [
    "# normalize the dataset\n",
    "scaler = StandardScaler()\n",
    "scaler = scaler.fit(df_for_training)\n",
    "df_for_training_scaled = scaler.transform(df_for_training)"
   ]
  },
  {
   "cell_type": "code",
   "execution_count": 282,
   "id": "2eed216c",
   "metadata": {},
   "outputs": [],
   "source": [
    "scaler_2 = StandardScaler()\n",
    "scaler_2 = scaler_2.fit(df_for_training_2)\n",
    "df_for_training_scaled_2 = scaler_2.transform(df_for_training_2)"
   ]
  },
  {
   "cell_type": "code",
   "execution_count": 283,
   "id": "d22ede09",
   "metadata": {},
   "outputs": [],
   "source": [
    "trainX = []\n",
    "trainY = []\n",
    "\n",
    "n_future = 1   # Number of days we want to look into the future based on the past days.\n",
    "n_past = 7  # Number of past days we want to use to predict the future.\n"
   ]
  },
  {
   "cell_type": "code",
   "execution_count": 285,
   "id": "da7d2c49",
   "metadata": {},
   "outputs": [],
   "source": [
    "trainX_2 = []\n",
    "trainY_2 = []\n",
    "\n",
    "n_future = 1   # Number of days we want to look into the future based on the past days.\n",
    "n_past = 7  # Number of past days we want to use to predict the future.\n"
   ]
  },
  {
   "cell_type": "code",
   "execution_count": 284,
   "id": "ed599e1d",
   "metadata": {},
   "outputs": [
    {
     "name": "stdout",
     "output_type": "stream",
     "text": [
      "trainX shape == (455, 7, 2).\n",
      "trainY shape == (455, 1).\n"
     ]
    }
   ],
   "source": [
    "#Reformat input data into a shape: (n_samples x timesteps x n_features)\n",
    "#In my example, my df_for_training_scaled has a shape (12823, 5)\n",
    "#12823 refers to the number of data points and 5 refers to the columns (multi-variables).\n",
    "for i in range(n_past, len(df_for_training_scaled) - n_future +1):\n",
    "    trainX.append(df_for_training_scaled[i - n_past:i, 0:df_for_training.shape[1]])\n",
    "    trainY.append(df_for_training_scaled[i + n_future - 1:i + n_future, 0])\n",
    "\n",
    "trainX, trainY = np.array(trainX), np.array(trainY)\n",
    "\n",
    "print('trainX shape == {}.'.format(trainX.shape))\n",
    "print('trainY shape == {}.'.format(trainY.shape))\n"
   ]
  },
  {
   "cell_type": "code",
   "execution_count": 286,
   "id": "0b6bc5d7",
   "metadata": {},
   "outputs": [
    {
     "name": "stdout",
     "output_type": "stream",
     "text": [
      "trainX shape == (455, 7, 1).\n",
      "trainY shape == (455, 1).\n"
     ]
    }
   ],
   "source": [
    "#Reformat input data into a shape: (n_samples x timesteps x n_features)\n",
    "#In my example, my df_for_training_scaled has a shape (12823, 5)\n",
    "#12823 refers to the number of data points and 5 refers to the columns (multi-variables).\n",
    "for i in range(n_past, len(df_for_training_scaled_2) - n_future +1):\n",
    "    trainX_2.append(df_for_training_scaled_2[i - n_past:i, 0:df_for_training_2.shape[1]])\n",
    "    trainY_2.append(df_for_training_scaled_2[i + n_future - 1:i + n_future, 0])\n",
    "\n",
    "trainX_2, trainY_2 = np.array(trainX_2), np.array(trainY_2)\n",
    "\n",
    "print('trainX shape == {}.'.format(trainX_2.shape))\n",
    "print('trainY shape == {}.'.format(trainY_2.shape))\n"
   ]
  },
  {
   "cell_type": "code",
   "execution_count": 287,
   "id": "0bfca8c6",
   "metadata": {},
   "outputs": [
    {
     "name": "stdout",
     "output_type": "stream",
     "text": [
      "Model: \"sequential_8\"\n",
      "_________________________________________________________________\n",
      "Layer (type)                 Output Shape              Param #   \n",
      "=================================================================\n",
      "lstm_19 (LSTM)               (None, 7, 64)             16896     \n",
      "_________________________________________________________________\n",
      "lstm_20 (LSTM)               (None, 32)                12416     \n",
      "_________________________________________________________________\n",
      "dropout_14 (Dropout)         (None, 32)                0         \n",
      "_________________________________________________________________\n",
      "dense_8 (Dense)              (None, 1)                 33        \n",
      "=================================================================\n",
      "Total params: 29,345\n",
      "Trainable params: 29,345\n",
      "Non-trainable params: 0\n",
      "_________________________________________________________________\n"
     ]
    }
   ],
   "source": [
    "\n",
    "model_2 = Sequential()\n",
    "model_2.add(LSTM(64, activation='relu', input_shape=(trainX_2.shape[1], trainX_2.shape[2]), return_sequences=True))\n",
    "model_2.add(LSTM(32, activation='relu', return_sequences=False))\n",
    "model_2.add(Dropout(0.2))\n",
    "model_2.add(Dense(trainY_2.shape[1]))\n",
    "\n",
    "model_2.compile(optimizer='adam', loss='mse')\n",
    "model_2.summary()\n"
   ]
  },
  {
   "cell_type": "code",
   "execution_count": 288,
   "id": "2b834310",
   "metadata": {},
   "outputs": [
    {
     "name": "stdout",
     "output_type": "stream",
     "text": [
      "Model: \"sequential_9\"\n",
      "_________________________________________________________________\n",
      "Layer (type)                 Output Shape              Param #   \n",
      "=================================================================\n",
      "lstm_21 (LSTM)               (None, 7, 64)             17152     \n",
      "_________________________________________________________________\n",
      "lstm_22 (LSTM)               (None, 32)                12416     \n",
      "_________________________________________________________________\n",
      "dropout_15 (Dropout)         (None, 32)                0         \n",
      "_________________________________________________________________\n",
      "dense_9 (Dense)              (None, 1)                 33        \n",
      "=================================================================\n",
      "Total params: 29,601\n",
      "Trainable params: 29,601\n",
      "Non-trainable params: 0\n",
      "_________________________________________________________________\n"
     ]
    }
   ],
   "source": [
    "\n",
    "model = Sequential()\n",
    "model.add(LSTM(64, activation='relu', input_shape=(trainX.shape[1], trainX.shape[2]), return_sequences=True))\n",
    "model.add(LSTM(32, activation='relu', return_sequences=False))\n",
    "model.add(Dropout(0.2))\n",
    "model.add(Dense(trainY.shape[1]))\n",
    "\n",
    "model.compile(optimizer='adam', loss='mse')\n",
    "model.summary()\n",
    "\n"
   ]
  },
  {
   "cell_type": "code",
   "execution_count": 289,
   "id": "a7a2b0e0",
   "metadata": {},
   "outputs": [
    {
     "name": "stdout",
     "output_type": "stream",
     "text": [
      "Train on 409 samples, validate on 46 samples\n",
      "Epoch 1/25\n",
      "409/409 [==============================] - 3s 8ms/sample - loss: 0.9544 - val_loss: 0.2681\n",
      "Epoch 2/25\n",
      "409/409 [==============================] - 0s 981us/sample - loss: 0.6741 - val_loss: 0.1390\n",
      "Epoch 3/25\n",
      "409/409 [==============================] - 0s 954us/sample - loss: 0.2829 - val_loss: 0.0862\n",
      "Epoch 4/25\n",
      "409/409 [==============================] - 0s 975us/sample - loss: 0.1535 - val_loss: 0.0708\n",
      "Epoch 5/25\n",
      "409/409 [==============================] - 0s 1ms/sample - loss: 0.1478 - val_loss: 0.0741\n",
      "Epoch 6/25\n",
      "409/409 [==============================] - 0s 1ms/sample - loss: 0.1407 - val_loss: 0.0703\n",
      "Epoch 7/25\n",
      "409/409 [==============================] - 0s 1ms/sample - loss: 0.1253 - val_loss: 0.0650\n",
      "Epoch 8/25\n",
      "409/409 [==============================] - 0s 1ms/sample - loss: 0.1140 - val_loss: 0.0653\n",
      "Epoch 9/25\n",
      "409/409 [==============================] - 0s 1ms/sample - loss: 0.1180 - val_loss: 0.0587\n",
      "Epoch 10/25\n",
      "409/409 [==============================] - 0s 973us/sample - loss: 0.0958 - val_loss: 0.0537\n",
      "Epoch 11/25\n",
      "409/409 [==============================] - 0s 977us/sample - loss: 0.0902 - val_loss: 0.0509\n",
      "Epoch 12/25\n",
      "409/409 [==============================] - 0s 1ms/sample - loss: 0.0943 - val_loss: 0.0417\n",
      "Epoch 13/25\n",
      "409/409 [==============================] - 0s 998us/sample - loss: 0.0951 - val_loss: 0.0382\n",
      "Epoch 14/25\n",
      "409/409 [==============================] - 0s 1ms/sample - loss: 0.0882 - val_loss: 0.0465\n",
      "Epoch 15/25\n",
      "409/409 [==============================] - 0s 1ms/sample - loss: 0.0950 - val_loss: 0.0476\n",
      "Epoch 16/25\n",
      "409/409 [==============================] - 0s 986us/sample - loss: 0.0840 - val_loss: 0.0847\n",
      "Epoch 17/25\n",
      "409/409 [==============================] - 0s 981us/sample - loss: 0.0970 - val_loss: 0.0454\n",
      "Epoch 18/25\n",
      "409/409 [==============================] - 0s 975us/sample - loss: 0.0799 - val_loss: 0.0370\n",
      "Epoch 19/25\n",
      "409/409 [==============================] - 0s 966us/sample - loss: 0.0805 - val_loss: 0.0398\n",
      "Epoch 20/25\n",
      "409/409 [==============================] - 0s 974us/sample - loss: 0.0785 - val_loss: 0.0349\n",
      "Epoch 21/25\n",
      "409/409 [==============================] - 0s 1ms/sample - loss: 0.0728 - val_loss: 0.0360\n",
      "Epoch 22/25\n",
      "409/409 [==============================] - 0s 1ms/sample - loss: 0.0735 - val_loss: 0.0353\n",
      "Epoch 23/25\n",
      "409/409 [==============================] - 0s 985us/sample - loss: 0.0706 - val_loss: 0.0457\n",
      "Epoch 24/25\n",
      "409/409 [==============================] - 0s 1ms/sample - loss: 0.0663 - val_loss: 0.0308\n",
      "Epoch 25/25\n",
      "409/409 [==============================] - 0s 990us/sample - loss: 0.0636 - val_loss: 0.0343\n"
     ]
    },
    {
     "data": {
      "text/plain": [
       "<matplotlib.legend.Legend at 0x7fafccff8990>"
      ]
     },
     "execution_count": 289,
     "metadata": {},
     "output_type": "execute_result"
    },
    {
     "data": {
      "image/png": "[encoded data removed]",
      "text/plain": [
       "<Figure size 1080x576 with 1 Axes>"
      ]
     },
     "metadata": {
      "needs_background": "light"
     },
     "output_type": "display_data"
    }
   ],
   "source": [
    "# fit the model\n",
    "history_2 = model_2.fit(trainX_2, trainY_2, epochs=25, batch_size=32, validation_split=0.1, verbose=1)\n",
    "plt.figure(figsize = (15,8))\n",
    "plt.plot(history.history['loss'], label='Training loss')\n",
    "plt.plot(history.history['val_loss'], label='Validation loss')\n",
    "plt.legend()\n"
   ]
  },
  {
   "cell_type": "code",
   "execution_count": 290,
   "id": "bf7f4737",
   "metadata": {},
   "outputs": [
    {
     "name": "stdout",
     "output_type": "stream",
     "text": [
      "Train on 409 samples, validate on 46 samples\n",
      "Epoch 1/25\n",
      "409/409 [==============================] - 4s 10ms/sample - loss: 0.8576 - val_loss: 0.3205\n",
      "Epoch 2/25\n",
      "409/409 [==============================] - 0s 1ms/sample - loss: 0.4525 - val_loss: 0.1964\n",
      "Epoch 3/25\n",
      "409/409 [==============================] - 0s 1ms/sample - loss: 0.1854 - val_loss: 0.0764\n",
      "Epoch 4/25\n",
      "409/409 [==============================] - 0s 979us/sample - loss: 0.1259 - val_loss: 0.1130\n",
      "Epoch 5/25\n",
      "409/409 [==============================] - 0s 988us/sample - loss: 0.1163 - val_loss: 0.0892\n",
      "Epoch 6/25\n",
      "409/409 [==============================] - 0s 1ms/sample - loss: 0.1012 - val_loss: 0.0771\n",
      "Epoch 7/25\n",
      "409/409 [==============================] - 0s 1ms/sample - loss: 0.1060 - val_loss: 0.0746\n",
      "Epoch 8/25\n",
      "409/409 [==============================] - 1s 1ms/sample - loss: 0.0977 - val_loss: 0.0651\n",
      "Epoch 9/25\n",
      "409/409 [==============================] - 0s 1ms/sample - loss: 0.0904 - val_loss: 0.0754\n",
      "Epoch 10/25\n",
      "409/409 [==============================] - 0s 1ms/sample - loss: 0.0865 - val_loss: 0.0583\n",
      "Epoch 11/25\n",
      "409/409 [==============================] - 0s 991us/sample - loss: 0.0818 - val_loss: 0.0555\n",
      "Epoch 12/25\n",
      "409/409 [==============================] - 0s 992us/sample - loss: 0.0796 - val_loss: 0.0589\n",
      "Epoch 13/25\n",
      "409/409 [==============================] - 0s 1ms/sample - loss: 0.0836 - val_loss: 0.0523\n",
      "Epoch 14/25\n",
      "409/409 [==============================] - 0s 976us/sample - loss: 0.0711 - val_loss: 0.0484\n",
      "Epoch 15/25\n",
      "409/409 [==============================] - 0s 963us/sample - loss: 0.0736 - val_loss: 0.0428\n",
      "Epoch 16/25\n",
      "409/409 [==============================] - 0s 1ms/sample - loss: 0.0748 - val_loss: 0.0424\n",
      "Epoch 17/25\n",
      "409/409 [==============================] - 0s 994us/sample - loss: 0.0731 - val_loss: 0.0455\n",
      "Epoch 18/25\n",
      "409/409 [==============================] - 0s 1ms/sample - loss: 0.0694 - val_loss: 0.0388\n",
      "Epoch 19/25\n",
      "409/409 [==============================] - 0s 1ms/sample - loss: 0.0633 - val_loss: 0.0431\n",
      "Epoch 20/25\n",
      "409/409 [==============================] - 0s 1ms/sample - loss: 0.0673 - val_loss: 0.0370\n",
      "Epoch 21/25\n",
      "409/409 [==============================] - 0s 1ms/sample - loss: 0.0648 - val_loss: 0.0394\n",
      "Epoch 22/25\n",
      "409/409 [==============================] - 0s 1ms/sample - loss: 0.0545 - val_loss: 0.0341\n",
      "Epoch 23/25\n",
      "409/409 [==============================] - 0s 999us/sample - loss: 0.0563 - val_loss: 0.0350\n",
      "Epoch 24/25\n",
      "409/409 [==============================] - 0s 996us/sample - loss: 0.0571 - val_loss: 0.0329\n",
      "Epoch 25/25\n",
      "409/409 [==============================] - 0s 1ms/sample - loss: 0.0565 - val_loss: 0.0332\n"
     ]
    },
    {
     "data": {
      "text/plain": [
       "<matplotlib.legend.Legend at 0x7fb03c8f5790>"
      ]
     },
     "execution_count": 290,
     "metadata": {},
     "output_type": "execute_result"
    },
    {
     "data": {
      "image/png": "[encoded data removed]",
      "text/plain": [
       "<Figure size 1080x576 with 1 Axes>"
      ]
     },
     "metadata": {
      "needs_background": "light"
     },
     "output_type": "display_data"
    }
   ],
   "source": [
    "# fit the model\n",
    "history = model.fit(trainX, trainY, epochs=25, batch_size=32, validation_split=0.1, verbose=1)\n",
    "plt.figure(figsize = (15,8))\n",
    "plt.plot(history.history['loss'], label='Training loss')\n",
    "plt.plot(history.history['val_loss'], label='Validation loss')\n",
    "plt.legend()\n"
   ]
  },
  {
   "cell_type": "code",
   "execution_count": 296,
   "id": "048a6c7c",
   "metadata": {},
   "outputs": [
    {
     "name": "stdout",
     "output_type": "stream",
     "text": [
      "[Timestamp('2021-07-23 00:00:00', freq='C'), Timestamp('2021-07-26 00:00:00', freq='C'), Timestamp('2021-07-27 00:00:00', freq='C'), Timestamp('2021-07-28 00:00:00', freq='C'), Timestamp('2021-07-29 00:00:00', freq='C'), Timestamp('2021-07-30 00:00:00', freq='C'), Timestamp('2021-08-02 00:00:00', freq='C'), Timestamp('2021-08-03 00:00:00', freq='C'), Timestamp('2021-08-04 00:00:00', freq='C'), Timestamp('2021-08-05 00:00:00', freq='C'), Timestamp('2021-08-06 00:00:00', freq='C'), Timestamp('2021-08-09 00:00:00', freq='C'), Timestamp('2021-08-10 00:00:00', freq='C'), Timestamp('2021-08-11 00:00:00', freq='C'), Timestamp('2021-08-12 00:00:00', freq='C'), Timestamp('2021-08-13 00:00:00', freq='C'), Timestamp('2021-08-16 00:00:00', freq='C'), Timestamp('2021-08-17 00:00:00', freq='C'), Timestamp('2021-08-18 00:00:00', freq='C'), Timestamp('2021-08-19 00:00:00', freq='C'), Timestamp('2021-08-20 00:00:00', freq='C'), Timestamp('2021-08-23 00:00:00', freq='C'), Timestamp('2021-08-24 00:00:00', freq='C'), Timestamp('2021-08-25 00:00:00', freq='C'), Timestamp('2021-08-26 00:00:00', freq='C'), Timestamp('2021-08-27 00:00:00', freq='C'), Timestamp('2021-08-30 00:00:00', freq='C'), Timestamp('2021-08-31 00:00:00', freq='C'), Timestamp('2021-09-01 00:00:00', freq='C'), Timestamp('2021-09-02 00:00:00', freq='C'), Timestamp('2021-09-03 00:00:00', freq='C'), Timestamp('2021-09-07 00:00:00', freq='C'), Timestamp('2021-09-08 00:00:00', freq='C'), Timestamp('2021-09-09 00:00:00', freq='C'), Timestamp('2021-09-10 00:00:00', freq='C'), Timestamp('2021-09-13 00:00:00', freq='C'), Timestamp('2021-09-14 00:00:00', freq='C'), Timestamp('2021-09-15 00:00:00', freq='C'), Timestamp('2021-09-16 00:00:00', freq='C'), Timestamp('2021-09-17 00:00:00', freq='C'), Timestamp('2021-09-20 00:00:00', freq='C'), Timestamp('2021-09-21 00:00:00', freq='C'), Timestamp('2021-09-22 00:00:00', freq='C'), Timestamp('2021-09-23 00:00:00', freq='C'), Timestamp('2021-09-24 00:00:00', freq='C'), Timestamp('2021-09-27 00:00:00', freq='C'), Timestamp('2021-09-28 00:00:00', freq='C'), Timestamp('2021-09-29 00:00:00', freq='C'), Timestamp('2021-09-30 00:00:00', freq='C'), Timestamp('2021-10-01 00:00:00', freq='C'), Timestamp('2021-10-04 00:00:00', freq='C'), Timestamp('2021-10-05 00:00:00', freq='C'), Timestamp('2021-10-06 00:00:00', freq='C'), Timestamp('2021-10-07 00:00:00', freq='C'), Timestamp('2021-10-08 00:00:00', freq='C'), Timestamp('2021-10-12 00:00:00', freq='C'), Timestamp('2021-10-13 00:00:00', freq='C'), Timestamp('2021-10-14 00:00:00', freq='C'), Timestamp('2021-10-15 00:00:00', freq='C'), Timestamp('2021-10-18 00:00:00', freq='C'), Timestamp('2021-10-19 00:00:00', freq='C'), Timestamp('2021-10-20 00:00:00', freq='C'), Timestamp('2021-10-21 00:00:00', freq='C'), Timestamp('2021-10-22 00:00:00', freq='C'), Timestamp('2021-10-25 00:00:00', freq='C'), Timestamp('2021-10-26 00:00:00', freq='C'), Timestamp('2021-10-27 00:00:00', freq='C'), Timestamp('2021-10-28 00:00:00', freq='C'), Timestamp('2021-10-29 00:00:00', freq='C'), Timestamp('2021-11-01 00:00:00', freq='C'), Timestamp('2021-11-02 00:00:00', freq='C'), Timestamp('2021-11-03 00:00:00', freq='C'), Timestamp('2021-11-04 00:00:00', freq='C'), Timestamp('2021-11-05 00:00:00', freq='C'), Timestamp('2021-11-08 00:00:00', freq='C'), Timestamp('2021-11-09 00:00:00', freq='C'), Timestamp('2021-11-10 00:00:00', freq='C'), Timestamp('2021-11-12 00:00:00', freq='C'), Timestamp('2021-11-15 00:00:00', freq='C'), Timestamp('2021-11-16 00:00:00', freq='C'), Timestamp('2021-11-17 00:00:00', freq='C'), Timestamp('2021-11-18 00:00:00', freq='C'), Timestamp('2021-11-19 00:00:00', freq='C'), Timestamp('2021-11-22 00:00:00', freq='C'), Timestamp('2021-11-23 00:00:00', freq='C'), Timestamp('2021-11-24 00:00:00', freq='C'), Timestamp('2021-11-26 00:00:00', freq='C'), Timestamp('2021-11-29 00:00:00', freq='C'), Timestamp('2021-11-30 00:00:00', freq='C'), Timestamp('2021-12-01 00:00:00', freq='C')]\n"
     ]
    }
   ],
   "source": [
    "#as inputs for prediction. We only have all 5 variables until the last day in our dataset.\n",
    "n_past =91\n",
    "n_days_for_prediction=90  #let us predict past 15 days\n",
    "\n",
    "predict_period_dates = pd.date_range(list(train_dates)[-n_past], periods=n_days_for_prediction, freq=us_bd).tolist()\n",
    "print(predict_period_dates)\n"
   ]
  },
  {
   "cell_type": "code",
   "execution_count": 297,
   "id": "c13d215e",
   "metadata": {},
   "outputs": [],
   "source": [
    "#Make prediction\n",
    "prediction = model.predict(trainX[-n_days_for_prediction:]) #shape = (n, 1) where n is the n_days_for_prediction\n",
    "\n",
    "#Perform inverse transformation to rescale back to original range\n",
    "#Since we used 5 variables for transform, the inverse expects same dimensions\n",
    "#Therefore, let us copy our values 5 times and discard them after inverse transform\n",
    "prediction_copies = np.repeat(prediction, df_for_training.shape[1], axis=-1)\n",
    "y_pred_future = scaler.inverse_transform(prediction_copies)[:,0]"
   ]
  },
  {
   "cell_type": "code",
   "execution_count": 298,
   "id": "6eb8b4b8",
   "metadata": {},
   "outputs": [],
   "source": [
    "#Make prediction\n",
    "prediction_2 = model_2.predict(trainX_2[-n_days_for_prediction:]) #shape = (n, 1) where n is the n_days_for_prediction\n",
    "\n",
    "#Perform inverse transformation to rescale back to original range\n",
    "#Since we used 5 variables for transform, the inverse expects same dimensions\n",
    "#Therefore, let us copy our values 5 times and discard them after inverse transform\n",
    "prediction_copies_2 = np.repeat(prediction_2, df_for_training.shape[1], axis=-1)\n",
    "y_pred_future_2 = scaler.inverse_transform(prediction_copies_2)[:,0]"
   ]
  },
  {
   "cell_type": "code",
   "execution_count": 330,
   "id": "59b238a7",
   "metadata": {},
   "outputs": [
    {
     "data": {
      "text/html": [
       "<div>\n",
       "<style scoped>\n",
       "    .dataframe tbody tr th:only-of-type {\n",
       "        vertical-align: middle;\n",
       "    }\n",
       "\n",
       "    .dataframe tbody tr th {\n",
       "        vertical-align: top;\n",
       "    }\n",
       "\n",
       "    .dataframe thead th {\n",
       "        text-align: right;\n",
       "    }\n",
       "</style>\n",
       "<table border=\"1\" class=\"dataframe\">\n",
       "  <thead>\n",
       "    <tr style=\"text-align: right;\">\n",
       "      <th></th>\n",
       "      <th>date</th>\n",
       "      <th>price</th>\n",
       "    </tr>\n",
       "  </thead>\n",
       "  <tbody>\n",
       "    <tr>\n",
       "      <th>0</th>\n",
       "      <td>2021-07-23</td>\n",
       "      <td>206.792938</td>\n",
       "    </tr>\n",
       "    <tr>\n",
       "      <th>1</th>\n",
       "      <td>2021-07-26</td>\n",
       "      <td>201.803345</td>\n",
       "    </tr>\n",
       "    <tr>\n",
       "      <th>2</th>\n",
       "      <td>2021-07-27</td>\n",
       "      <td>194.046371</td>\n",
       "    </tr>\n",
       "    <tr>\n",
       "      <th>3</th>\n",
       "      <td>2021-07-28</td>\n",
       "      <td>193.161789</td>\n",
       "    </tr>\n",
       "    <tr>\n",
       "      <th>4</th>\n",
       "      <td>2021-07-29</td>\n",
       "      <td>190.766647</td>\n",
       "    </tr>\n",
       "    <tr>\n",
       "      <th>...</th>\n",
       "      <td>...</td>\n",
       "      <td>...</td>\n",
       "    </tr>\n",
       "    <tr>\n",
       "      <th>85</th>\n",
       "      <td>2021-11-24</td>\n",
       "      <td>194.208878</td>\n",
       "    </tr>\n",
       "    <tr>\n",
       "      <th>86</th>\n",
       "      <td>2021-11-26</td>\n",
       "      <td>197.387955</td>\n",
       "    </tr>\n",
       "    <tr>\n",
       "      <th>87</th>\n",
       "      <td>2021-11-29</td>\n",
       "      <td>198.744080</td>\n",
       "    </tr>\n",
       "    <tr>\n",
       "      <th>88</th>\n",
       "      <td>2021-11-30</td>\n",
       "      <td>204.212708</td>\n",
       "    </tr>\n",
       "    <tr>\n",
       "      <th>89</th>\n",
       "      <td>2021-12-01</td>\n",
       "      <td>199.631714</td>\n",
       "    </tr>\n",
       "  </tbody>\n",
       "</table>\n",
       "<p>90 rows × 2 columns</p>\n",
       "</div>"
      ],
      "text/plain": [
       "         date       price\n",
       "0  2021-07-23  206.792938\n",
       "1  2021-07-26  201.803345\n",
       "2  2021-07-27  194.046371\n",
       "3  2021-07-28  193.161789\n",
       "4  2021-07-29  190.766647\n",
       "..        ...         ...\n",
       "85 2021-11-24  194.208878\n",
       "86 2021-11-26  197.387955\n",
       "87 2021-11-29  198.744080\n",
       "88 2021-11-30  204.212708\n",
       "89 2021-12-01  199.631714\n",
       "\n",
       "[90 rows x 2 columns]"
      ]
     },
     "execution_count": 330,
     "metadata": {},
     "output_type": "execute_result"
    }
   ],
   "source": [
    "df_forecast"
   ]
  },
  {
   "cell_type": "code",
   "execution_count": 299,
   "id": "b43c07d9",
   "metadata": {},
   "outputs": [
    {
     "name": "stderr",
     "output_type": "stream",
     "text": [
      "/Users/wwy/opt/anaconda3/envs/tf/lib/python3.7/site-packages/ipykernel_launcher.py:11: SettingWithCopyWarning: \n",
      "A value is trying to be set on a copy of a slice from a DataFrame.\n",
      "Try using .loc[row_indexer,col_indexer] = value instead\n",
      "\n",
      "See the caveats in the documentation: https://pandas.pydata.org/pandas-docs/stable/user_guide/indexing.html#returning-a-view-versus-a-copy\n",
      "  # This is added back by InteractiveShellApp.init_path()\n"
     ]
    },
    {
     "data": {
      "text/plain": [
       "Text(0.5, 1.0, 'LSTM + Trend Forecast Result')"
      ]
     },
     "execution_count": 299,
     "metadata": {},
     "output_type": "execute_result"
    },
    {
     "data": {
      "image/png": "[encoded data removed]",
      "text/plain": [
       "<Figure size 1080x576 with 1 Axes>"
      ]
     },
     "metadata": {
      "needs_background": "light"
     },
     "output_type": "display_data"
    }
   ],
   "source": [
    "\n",
    "# Convert timestamp to date\n",
    "forecast_dates = []\n",
    "for time_i in predict_period_dates:\n",
    "    forecast_dates.append(time_i.date())\n",
    "    \n",
    "df_forecast = pd.DataFrame({'date':np.array(forecast_dates), 'price':y_pred_future})\n",
    "df_forecast['date']=pd.to_datetime(df_forecast['date'])\n",
    "\n",
    "\n",
    "original = df[['date', 'price']]\n",
    "original['date']=pd.to_datetime(original['date'])\n",
    "original = original.loc[original['date'] >= '2021-1-1']\n",
    "\n",
    "\n",
    "\n",
    "plt.figure(figsize = (15,8))\n",
    "plt.plot(original['date'], original['price'],color = 'orange', label = 'Real NVAX Price')\n",
    "plt.plot(df_forecast['date'], df_forecast['price'],color = 'green', label = 'Predicted NVAX Price')\n",
    "plt.legend(loc = 'best')\n",
    "plt.title('LSTM + Trend Forecast Result')\n"
   ]
  },
  {
   "cell_type": "code",
   "execution_count": 301,
   "id": "8776e146",
   "metadata": {},
   "outputs": [
    {
     "name": "stderr",
     "output_type": "stream",
     "text": [
      "/Users/wwy/opt/anaconda3/envs/tf/lib/python3.7/site-packages/ipykernel_launcher.py:11: SettingWithCopyWarning: \n",
      "A value is trying to be set on a copy of a slice from a DataFrame.\n",
      "Try using .loc[row_indexer,col_indexer] = value instead\n",
      "\n",
      "See the caveats in the documentation: https://pandas.pydata.org/pandas-docs/stable/user_guide/indexing.html#returning-a-view-versus-a-copy\n",
      "  # This is added back by InteractiveShellApp.init_path()\n"
     ]
    },
    {
     "data": {
      "text/plain": [
       "Text(0.5, 1.0, 'LSTM Forecast Result')"
      ]
     },
     "execution_count": 301,
     "metadata": {},
     "output_type": "execute_result"
    },
    {
     "data": {
      "image/png": "[encoded data removed]",
      "text/plain": [
       "<Figure size 1080x576 with 1 Axes>"
      ]
     },
     "metadata": {
      "needs_background": "light"
     },
     "output_type": "display_data"
    }
   ],
   "source": [
    "\n",
    "# Convert timestamp to date\n",
    "forecast_dates_2 = []\n",
    "for time_i in predict_period_dates:\n",
    "    forecast_dates_2.append(time_i.date())\n",
    "    \n",
    "df_forecast_2 = pd.DataFrame({'date':np.array(forecast_dates_2), 'price':y_pred_future_2})\n",
    "df_forecast_2['date']=pd.to_datetime(df_forecast_2['date'])\n",
    "\n",
    "\n",
    "original = df[['date', 'price']]\n",
    "original['date']=pd.to_datetime(original['date'])\n",
    "original = original.loc[original['date'] >= '2021-1-1']\n",
    "\n",
    "\n",
    "\n",
    "plt.figure(figsize = (15,8))\n",
    "plt.plot(original['date'], original['price'],color = 'orange', label = 'Real NVAX Price')\n",
    "plt.plot(df_forecast_2['date'], df_forecast_2['price'],color = 'green', label = 'Predicted NVAX Price')\n",
    "plt.legend(loc = 'best')\n",
    "plt.title('LSTM Forecast Result')\n"
   ]
  },
  {
   "cell_type": "code",
   "execution_count": 303,
   "id": "31690f81",
   "metadata": {},
   "outputs": [
    {
     "name": "stderr",
     "output_type": "stream",
     "text": [
      "/Users/wwy/opt/anaconda3/envs/tf/lib/python3.7/site-packages/ipykernel_launcher.py:11: SettingWithCopyWarning: \n",
      "A value is trying to be set on a copy of a slice from a DataFrame.\n",
      "Try using .loc[row_indexer,col_indexer] = value instead\n",
      "\n",
      "See the caveats in the documentation: https://pandas.pydata.org/pandas-docs/stable/user_guide/indexing.html#returning-a-view-versus-a-copy\n",
      "  # This is added back by InteractiveShellApp.init_path()\n"
     ]
    },
    {
     "data": {
      "text/plain": [
       "Text(0.5, 1.0, 'Novavax Stock Price Prediction')"
      ]
     },
     "execution_count": 303,
     "metadata": {},
     "output_type": "execute_result"
    },
    {
     "data": {
      "image/png": "[encoded data removed]",
      "text/plain": [
       "<Figure size 1080x576 with 1 Axes>"
      ]
     },
     "metadata": {
      "needs_background": "light"
     },
     "output_type": "display_data"
    }
   ],
   "source": [
    "# Convert timestamp to date\n",
    "forecast_dates_2 = []\n",
    "for time_i in predict_period_dates:\n",
    "    forecast_dates_2.append(time_i.date())\n",
    "    \n",
    "df_forecast_2 = pd.DataFrame({'date':np.array(forecast_dates_2), 'price':y_pred_future_2})\n",
    "df_forecast_2['date']=pd.to_datetime(df_forecast_2['date'])\n",
    "\n",
    "\n",
    "original = df[['date', 'price']]\n",
    "original['date']=pd.to_datetime(original['date'])\n",
    "original = original.loc[original['date'] >= '2021-7-1']\n",
    "\n",
    "\n",
    "\n",
    "plt.figure(figsize = (15,8))\n",
    "plt.plot(original['date'], original['price'],color = 'orange', label = 'Real NVAX Price')\n",
    "plt.plot(df_forecast_2['date'], df_forecast_2['price'],color = 'red', label = 'LSTM Predicted')\n",
    "plt.plot(df_forecast['date'], df_forecast['price'],color = 'green', label = 'LSTM + GoogleTrend Predicted')\n",
    "plt.legend(loc = 'best')\n",
    "plt.title('Novavax Stock Price Prediction')\n"
   ]
  },
  {
   "cell_type": "code",
   "execution_count": 315,
   "id": "807e6176",
   "metadata": {},
   "outputs": [
    {
     "data": {
      "text/html": [
       "<div>\n",
       "<style scoped>\n",
       "    .dataframe tbody tr th:only-of-type {\n",
       "        vertical-align: middle;\n",
       "    }\n",
       "\n",
       "    .dataframe tbody tr th {\n",
       "        vertical-align: top;\n",
       "    }\n",
       "\n",
       "    .dataframe thead th {\n",
       "        text-align: right;\n",
       "    }\n",
       "</style>\n",
       "<table border=\"1\" class=\"dataframe\">\n",
       "  <thead>\n",
       "    <tr style=\"text-align: right;\">\n",
       "      <th></th>\n",
       "      <th>date</th>\n",
       "      <th>price</th>\n",
       "    </tr>\n",
       "  </thead>\n",
       "  <tbody>\n",
       "    <tr>\n",
       "      <th>0</th>\n",
       "      <td>2021-07-23</td>\n",
       "      <td>206.792938</td>\n",
       "    </tr>\n",
       "    <tr>\n",
       "      <th>1</th>\n",
       "      <td>2021-07-26</td>\n",
       "      <td>201.803345</td>\n",
       "    </tr>\n",
       "    <tr>\n",
       "      <th>2</th>\n",
       "      <td>2021-07-27</td>\n",
       "      <td>194.046371</td>\n",
       "    </tr>\n",
       "    <tr>\n",
       "      <th>3</th>\n",
       "      <td>2021-07-28</td>\n",
       "      <td>193.161789</td>\n",
       "    </tr>\n",
       "    <tr>\n",
       "      <th>4</th>\n",
       "      <td>2021-07-29</td>\n",
       "      <td>190.766647</td>\n",
       "    </tr>\n",
       "    <tr>\n",
       "      <th>...</th>\n",
       "      <td>...</td>\n",
       "      <td>...</td>\n",
       "    </tr>\n",
       "    <tr>\n",
       "      <th>84</th>\n",
       "      <td>2021-11-23</td>\n",
       "      <td>187.889969</td>\n",
       "    </tr>\n",
       "    <tr>\n",
       "      <th>85</th>\n",
       "      <td>2021-11-24</td>\n",
       "      <td>194.208878</td>\n",
       "    </tr>\n",
       "    <tr>\n",
       "      <th>86</th>\n",
       "      <td>2021-11-26</td>\n",
       "      <td>197.387955</td>\n",
       "    </tr>\n",
       "    <tr>\n",
       "      <th>87</th>\n",
       "      <td>2021-11-29</td>\n",
       "      <td>198.744080</td>\n",
       "    </tr>\n",
       "    <tr>\n",
       "      <th>88</th>\n",
       "      <td>2021-11-30</td>\n",
       "      <td>204.212708</td>\n",
       "    </tr>\n",
       "  </tbody>\n",
       "</table>\n",
       "<p>89 rows × 2 columns</p>\n",
       "</div>"
      ],
      "text/plain": [
       "         date       price\n",
       "0  2021-07-23  206.792938\n",
       "1  2021-07-26  201.803345\n",
       "2  2021-07-27  194.046371\n",
       "3  2021-07-28  193.161789\n",
       "4  2021-07-29  190.766647\n",
       "..        ...         ...\n",
       "84 2021-11-23  187.889969\n",
       "85 2021-11-24  194.208878\n",
       "86 2021-11-26  197.387955\n",
       "87 2021-11-29  198.744080\n",
       "88 2021-11-30  204.212708\n",
       "\n",
       "[89 rows x 2 columns]"
      ]
     },
     "execution_count": 315,
     "metadata": {},
     "output_type": "execute_result"
    }
   ],
   "source": [
    "fc = df_forecast[df_forecast['date'] < '2021-12-01']\n",
    "fc"
   ]
  },
  {
   "cell_type": "code",
   "execution_count": 316,
   "id": "2c636724",
   "metadata": {},
   "outputs": [
    {
     "data": {
      "text/html": [
       "<div>\n",
       "<style scoped>\n",
       "    .dataframe tbody tr th:only-of-type {\n",
       "        vertical-align: middle;\n",
       "    }\n",
       "\n",
       "    .dataframe tbody tr th {\n",
       "        vertical-align: top;\n",
       "    }\n",
       "\n",
       "    .dataframe thead th {\n",
       "        text-align: right;\n",
       "    }\n",
       "</style>\n",
       "<table border=\"1\" class=\"dataframe\">\n",
       "  <thead>\n",
       "    <tr style=\"text-align: right;\">\n",
       "      <th></th>\n",
       "      <th>date</th>\n",
       "      <th>price</th>\n",
       "    </tr>\n",
       "  </thead>\n",
       "  <tbody>\n",
       "    <tr>\n",
       "      <th>0</th>\n",
       "      <td>2021-07-23</td>\n",
       "      <td>206.752090</td>\n",
       "    </tr>\n",
       "    <tr>\n",
       "      <th>1</th>\n",
       "      <td>2021-07-26</td>\n",
       "      <td>200.851761</td>\n",
       "    </tr>\n",
       "    <tr>\n",
       "      <th>2</th>\n",
       "      <td>2021-07-27</td>\n",
       "      <td>190.510345</td>\n",
       "    </tr>\n",
       "    <tr>\n",
       "      <th>3</th>\n",
       "      <td>2021-07-28</td>\n",
       "      <td>187.974091</td>\n",
       "    </tr>\n",
       "    <tr>\n",
       "      <th>4</th>\n",
       "      <td>2021-07-29</td>\n",
       "      <td>185.194748</td>\n",
       "    </tr>\n",
       "    <tr>\n",
       "      <th>...</th>\n",
       "      <td>...</td>\n",
       "      <td>...</td>\n",
       "    </tr>\n",
       "    <tr>\n",
       "      <th>84</th>\n",
       "      <td>2021-11-23</td>\n",
       "      <td>188.752579</td>\n",
       "    </tr>\n",
       "    <tr>\n",
       "      <th>85</th>\n",
       "      <td>2021-11-24</td>\n",
       "      <td>196.622101</td>\n",
       "    </tr>\n",
       "    <tr>\n",
       "      <th>86</th>\n",
       "      <td>2021-11-26</td>\n",
       "      <td>200.069504</td>\n",
       "    </tr>\n",
       "    <tr>\n",
       "      <th>87</th>\n",
       "      <td>2021-11-29</td>\n",
       "      <td>201.216110</td>\n",
       "    </tr>\n",
       "    <tr>\n",
       "      <th>88</th>\n",
       "      <td>2021-11-30</td>\n",
       "      <td>207.235840</td>\n",
       "    </tr>\n",
       "  </tbody>\n",
       "</table>\n",
       "<p>89 rows × 2 columns</p>\n",
       "</div>"
      ],
      "text/plain": [
       "         date       price\n",
       "0  2021-07-23  206.752090\n",
       "1  2021-07-26  200.851761\n",
       "2  2021-07-27  190.510345\n",
       "3  2021-07-28  187.974091\n",
       "4  2021-07-29  185.194748\n",
       "..        ...         ...\n",
       "84 2021-11-23  188.752579\n",
       "85 2021-11-24  196.622101\n",
       "86 2021-11-26  200.069504\n",
       "87 2021-11-29  201.216110\n",
       "88 2021-11-30  207.235840\n",
       "\n",
       "[89 rows x 2 columns]"
      ]
     },
     "execution_count": 316,
     "metadata": {},
     "output_type": "execute_result"
    }
   ],
   "source": [
    "fc2 = df_forecast_2[df_forecast['date'] < '2021-12-01']\n",
    "fc2"
   ]
  },
  {
   "cell_type": "code",
   "execution_count": 317,
   "id": "34ff5acc",
   "metadata": {},
   "outputs": [
    {
     "data": {
      "text/html": [
       "<div>\n",
       "<style scoped>\n",
       "    .dataframe tbody tr th:only-of-type {\n",
       "        vertical-align: middle;\n",
       "    }\n",
       "\n",
       "    .dataframe tbody tr th {\n",
       "        vertical-align: top;\n",
       "    }\n",
       "\n",
       "    .dataframe thead th {\n",
       "        text-align: right;\n",
       "    }\n",
       "</style>\n",
       "<table border=\"1\" class=\"dataframe\">\n",
       "  <thead>\n",
       "    <tr style=\"text-align: right;\">\n",
       "      <th></th>\n",
       "      <th>date</th>\n",
       "      <th>price</th>\n",
       "    </tr>\n",
       "  </thead>\n",
       "  <tbody>\n",
       "    <tr>\n",
       "      <th>811</th>\n",
       "      <td>2021-07-23</td>\n",
       "      <td>203.240005</td>\n",
       "    </tr>\n",
       "    <tr>\n",
       "      <th>814</th>\n",
       "      <td>2021-07-26</td>\n",
       "      <td>193.360001</td>\n",
       "    </tr>\n",
       "    <tr>\n",
       "      <th>815</th>\n",
       "      <td>2021-07-27</td>\n",
       "      <td>179.009995</td>\n",
       "    </tr>\n",
       "    <tr>\n",
       "      <th>816</th>\n",
       "      <td>2021-07-28</td>\n",
       "      <td>189.009995</td>\n",
       "    </tr>\n",
       "    <tr>\n",
       "      <th>817</th>\n",
       "      <td>2021-07-29</td>\n",
       "      <td>184.000000</td>\n",
       "    </tr>\n",
       "    <tr>\n",
       "      <th>...</th>\n",
       "      <td>...</td>\n",
       "      <td>...</td>\n",
       "    </tr>\n",
       "    <tr>\n",
       "      <th>934</th>\n",
       "      <td>2021-11-23</td>\n",
       "      <td>200.710007</td>\n",
       "    </tr>\n",
       "    <tr>\n",
       "      <th>935</th>\n",
       "      <td>2021-11-24</td>\n",
       "      <td>200.070007</td>\n",
       "    </tr>\n",
       "    <tr>\n",
       "      <th>937</th>\n",
       "      <td>2021-11-26</td>\n",
       "      <td>217.970001</td>\n",
       "    </tr>\n",
       "    <tr>\n",
       "      <th>940</th>\n",
       "      <td>2021-11-29</td>\n",
       "      <td>193.960007</td>\n",
       "    </tr>\n",
       "    <tr>\n",
       "      <th>941</th>\n",
       "      <td>2021-11-30</td>\n",
       "      <td>208.630005</td>\n",
       "    </tr>\n",
       "  </tbody>\n",
       "</table>\n",
       "<p>91 rows × 2 columns</p>\n",
       "</div>"
      ],
      "text/plain": [
       "          date       price\n",
       "811 2021-07-23  203.240005\n",
       "814 2021-07-26  193.360001\n",
       "815 2021-07-27  179.009995\n",
       "816 2021-07-28  189.009995\n",
       "817 2021-07-29  184.000000\n",
       "..         ...         ...\n",
       "934 2021-11-23  200.710007\n",
       "935 2021-11-24  200.070007\n",
       "937 2021-11-26  217.970001\n",
       "940 2021-11-29  193.960007\n",
       "941 2021-11-30  208.630005\n",
       "\n",
       "[91 rows x 2 columns]"
      ]
     },
     "execution_count": 317,
     "metadata": {},
     "output_type": "execute_result"
    }
   ],
   "source": [
    "test_data = original[original[\"date\"] >= '2021-07-23']\n",
    "test_data"
   ]
  },
  {
   "cell_type": "code",
   "execution_count": 343,
   "id": "f80647c3",
   "metadata": {},
   "outputs": [],
   "source": [
    "test_data = test_data[test_data[\"date\"] != '2021-10-11']\n"
   ]
  },
  {
   "cell_type": "code",
   "execution_count": 344,
   "id": "50a0fcb4",
   "metadata": {},
   "outputs": [
    {
     "data": {
      "text/html": [
       "<div>\n",
       "<style scoped>\n",
       "    .dataframe tbody tr th:only-of-type {\n",
       "        vertical-align: middle;\n",
       "    }\n",
       "\n",
       "    .dataframe tbody tr th {\n",
       "        vertical-align: top;\n",
       "    }\n",
       "\n",
       "    .dataframe thead th {\n",
       "        text-align: right;\n",
       "    }\n",
       "</style>\n",
       "<table border=\"1\" class=\"dataframe\">\n",
       "  <thead>\n",
       "    <tr style=\"text-align: right;\">\n",
       "      <th></th>\n",
       "      <th>date</th>\n",
       "      <th>price</th>\n",
       "    </tr>\n",
       "  </thead>\n",
       "  <tbody>\n",
       "    <tr>\n",
       "      <th>49</th>\n",
       "      <td>2021-10-01</td>\n",
       "      <td>184.635406</td>\n",
       "    </tr>\n",
       "    <tr>\n",
       "      <th>50</th>\n",
       "      <td>2021-10-04</td>\n",
       "      <td>180.455109</td>\n",
       "    </tr>\n",
       "    <tr>\n",
       "      <th>51</th>\n",
       "      <td>2021-10-05</td>\n",
       "      <td>178.577042</td>\n",
       "    </tr>\n",
       "    <tr>\n",
       "      <th>52</th>\n",
       "      <td>2021-10-06</td>\n",
       "      <td>173.270569</td>\n",
       "    </tr>\n",
       "    <tr>\n",
       "      <th>53</th>\n",
       "      <td>2021-10-07</td>\n",
       "      <td>169.758621</td>\n",
       "    </tr>\n",
       "    <tr>\n",
       "      <th>54</th>\n",
       "      <td>2021-10-08</td>\n",
       "      <td>168.814362</td>\n",
       "    </tr>\n",
       "    <tr>\n",
       "      <th>55</th>\n",
       "      <td>2021-10-12</td>\n",
       "      <td>169.465866</td>\n",
       "    </tr>\n",
       "    <tr>\n",
       "      <th>56</th>\n",
       "      <td>2021-10-13</td>\n",
       "      <td>168.598419</td>\n",
       "    </tr>\n",
       "    <tr>\n",
       "      <th>57</th>\n",
       "      <td>2021-10-14</td>\n",
       "      <td>168.619919</td>\n",
       "    </tr>\n",
       "    <tr>\n",
       "      <th>58</th>\n",
       "      <td>2021-10-15</td>\n",
       "      <td>169.782959</td>\n",
       "    </tr>\n",
       "    <tr>\n",
       "      <th>59</th>\n",
       "      <td>2021-10-18</td>\n",
       "      <td>168.293549</td>\n",
       "    </tr>\n",
       "    <tr>\n",
       "      <th>60</th>\n",
       "      <td>2021-10-19</td>\n",
       "      <td>167.159210</td>\n",
       "    </tr>\n",
       "    <tr>\n",
       "      <th>61</th>\n",
       "      <td>2021-10-20</td>\n",
       "      <td>165.113449</td>\n",
       "    </tr>\n",
       "    <tr>\n",
       "      <th>62</th>\n",
       "      <td>2021-10-21</td>\n",
       "      <td>156.828278</td>\n",
       "    </tr>\n",
       "    <tr>\n",
       "      <th>63</th>\n",
       "      <td>2021-10-22</td>\n",
       "      <td>150.080124</td>\n",
       "    </tr>\n",
       "    <tr>\n",
       "      <th>64</th>\n",
       "      <td>2021-10-25</td>\n",
       "      <td>144.711288</td>\n",
       "    </tr>\n",
       "    <tr>\n",
       "      <th>65</th>\n",
       "      <td>2021-10-26</td>\n",
       "      <td>141.488373</td>\n",
       "    </tr>\n",
       "    <tr>\n",
       "      <th>66</th>\n",
       "      <td>2021-10-27</td>\n",
       "      <td>139.552383</td>\n",
       "    </tr>\n",
       "    <tr>\n",
       "      <th>67</th>\n",
       "      <td>2021-10-28</td>\n",
       "      <td>139.873535</td>\n",
       "    </tr>\n",
       "    <tr>\n",
       "      <th>68</th>\n",
       "      <td>2021-10-29</td>\n",
       "      <td>143.026901</td>\n",
       "    </tr>\n",
       "    <tr>\n",
       "      <th>69</th>\n",
       "      <td>2021-11-01</td>\n",
       "      <td>145.875610</td>\n",
       "    </tr>\n",
       "    <tr>\n",
       "      <th>70</th>\n",
       "      <td>2021-11-02</td>\n",
       "      <td>153.365860</td>\n",
       "    </tr>\n",
       "    <tr>\n",
       "      <th>71</th>\n",
       "      <td>2021-11-03</td>\n",
       "      <td>164.785065</td>\n",
       "    </tr>\n",
       "    <tr>\n",
       "      <th>72</th>\n",
       "      <td>2021-11-04</td>\n",
       "      <td>174.931534</td>\n",
       "    </tr>\n",
       "    <tr>\n",
       "      <th>73</th>\n",
       "      <td>2021-11-05</td>\n",
       "      <td>180.175781</td>\n",
       "    </tr>\n",
       "    <tr>\n",
       "      <th>74</th>\n",
       "      <td>2021-11-08</td>\n",
       "      <td>176.090500</td>\n",
       "    </tr>\n",
       "    <tr>\n",
       "      <th>75</th>\n",
       "      <td>2021-11-09</td>\n",
       "      <td>175.332245</td>\n",
       "    </tr>\n",
       "    <tr>\n",
       "      <th>76</th>\n",
       "      <td>2021-11-10</td>\n",
       "      <td>173.861526</td>\n",
       "    </tr>\n",
       "    <tr>\n",
       "      <th>77</th>\n",
       "      <td>2021-11-12</td>\n",
       "      <td>171.295151</td>\n",
       "    </tr>\n",
       "    <tr>\n",
       "      <th>78</th>\n",
       "      <td>2021-11-15</td>\n",
       "      <td>172.545807</td>\n",
       "    </tr>\n",
       "    <tr>\n",
       "      <th>79</th>\n",
       "      <td>2021-11-16</td>\n",
       "      <td>174.100723</td>\n",
       "    </tr>\n",
       "    <tr>\n",
       "      <th>80</th>\n",
       "      <td>2021-11-17</td>\n",
       "      <td>175.193069</td>\n",
       "    </tr>\n",
       "    <tr>\n",
       "      <th>81</th>\n",
       "      <td>2021-11-18</td>\n",
       "      <td>175.540833</td>\n",
       "    </tr>\n",
       "    <tr>\n",
       "      <th>82</th>\n",
       "      <td>2021-11-19</td>\n",
       "      <td>179.392242</td>\n",
       "    </tr>\n",
       "    <tr>\n",
       "      <th>83</th>\n",
       "      <td>2021-11-22</td>\n",
       "      <td>184.012985</td>\n",
       "    </tr>\n",
       "    <tr>\n",
       "      <th>84</th>\n",
       "      <td>2021-11-23</td>\n",
       "      <td>187.889969</td>\n",
       "    </tr>\n",
       "    <tr>\n",
       "      <th>85</th>\n",
       "      <td>2021-11-24</td>\n",
       "      <td>194.208878</td>\n",
       "    </tr>\n",
       "    <tr>\n",
       "      <th>86</th>\n",
       "      <td>2021-11-26</td>\n",
       "      <td>197.387955</td>\n",
       "    </tr>\n",
       "    <tr>\n",
       "      <th>87</th>\n",
       "      <td>2021-11-29</td>\n",
       "      <td>198.744080</td>\n",
       "    </tr>\n",
       "    <tr>\n",
       "      <th>88</th>\n",
       "      <td>2021-11-30</td>\n",
       "      <td>204.212708</td>\n",
       "    </tr>\n",
       "  </tbody>\n",
       "</table>\n",
       "</div>"
      ],
      "text/plain": [
       "         date       price\n",
       "49 2021-10-01  184.635406\n",
       "50 2021-10-04  180.455109\n",
       "51 2021-10-05  178.577042\n",
       "52 2021-10-06  173.270569\n",
       "53 2021-10-07  169.758621\n",
       "54 2021-10-08  168.814362\n",
       "55 2021-10-12  169.465866\n",
       "56 2021-10-13  168.598419\n",
       "57 2021-10-14  168.619919\n",
       "58 2021-10-15  169.782959\n",
       "59 2021-10-18  168.293549\n",
       "60 2021-10-19  167.159210\n",
       "61 2021-10-20  165.113449\n",
       "62 2021-10-21  156.828278\n",
       "63 2021-10-22  150.080124\n",
       "64 2021-10-25  144.711288\n",
       "65 2021-10-26  141.488373\n",
       "66 2021-10-27  139.552383\n",
       "67 2021-10-28  139.873535\n",
       "68 2021-10-29  143.026901\n",
       "69 2021-11-01  145.875610\n",
       "70 2021-11-02  153.365860\n",
       "71 2021-11-03  164.785065\n",
       "72 2021-11-04  174.931534\n",
       "73 2021-11-05  180.175781\n",
       "74 2021-11-08  176.090500\n",
       "75 2021-11-09  175.332245\n",
       "76 2021-11-10  173.861526\n",
       "77 2021-11-12  171.295151\n",
       "78 2021-11-15  172.545807\n",
       "79 2021-11-16  174.100723\n",
       "80 2021-11-17  175.193069\n",
       "81 2021-11-18  175.540833\n",
       "82 2021-11-19  179.392242\n",
       "83 2021-11-22  184.012985\n",
       "84 2021-11-23  187.889969\n",
       "85 2021-11-24  194.208878\n",
       "86 2021-11-26  197.387955\n",
       "87 2021-11-29  198.744080\n",
       "88 2021-11-30  204.212708"
      ]
     },
     "execution_count": 344,
     "metadata": {},
     "output_type": "execute_result"
    }
   ],
   "source": [
    "fc.tail(40)"
   ]
  },
  {
   "cell_type": "code",
   "execution_count": 345,
   "id": "8a9deaa3",
   "metadata": {},
   "outputs": [
    {
     "data": {
      "text/html": [
       "<div>\n",
       "<style scoped>\n",
       "    .dataframe tbody tr th:only-of-type {\n",
       "        vertical-align: middle;\n",
       "    }\n",
       "\n",
       "    .dataframe tbody tr th {\n",
       "        vertical-align: top;\n",
       "    }\n",
       "\n",
       "    .dataframe thead th {\n",
       "        text-align: right;\n",
       "    }\n",
       "</style>\n",
       "<table border=\"1\" class=\"dataframe\">\n",
       "  <thead>\n",
       "    <tr style=\"text-align: right;\">\n",
       "      <th></th>\n",
       "      <th>date</th>\n",
       "      <th>price</th>\n",
       "    </tr>\n",
       "  </thead>\n",
       "  <tbody>\n",
       "    <tr>\n",
       "      <th>881</th>\n",
       "      <td>2021-10-01</td>\n",
       "      <td>181.600006</td>\n",
       "    </tr>\n",
       "    <tr>\n",
       "      <th>884</th>\n",
       "      <td>2021-10-04</td>\n",
       "      <td>178.270004</td>\n",
       "    </tr>\n",
       "    <tr>\n",
       "      <th>885</th>\n",
       "      <td>2021-10-05</td>\n",
       "      <td>170.000000</td>\n",
       "    </tr>\n",
       "    <tr>\n",
       "      <th>886</th>\n",
       "      <td>2021-10-06</td>\n",
       "      <td>161.889999</td>\n",
       "    </tr>\n",
       "    <tr>\n",
       "      <th>887</th>\n",
       "      <td>2021-10-07</td>\n",
       "      <td>165.679993</td>\n",
       "    </tr>\n",
       "    <tr>\n",
       "      <th>888</th>\n",
       "      <td>2021-10-08</td>\n",
       "      <td>164.050003</td>\n",
       "    </tr>\n",
       "    <tr>\n",
       "      <th>892</th>\n",
       "      <td>2021-10-12</td>\n",
       "      <td>163.220001</td>\n",
       "    </tr>\n",
       "    <tr>\n",
       "      <th>893</th>\n",
       "      <td>2021-10-13</td>\n",
       "      <td>166.389999</td>\n",
       "    </tr>\n",
       "    <tr>\n",
       "      <th>894</th>\n",
       "      <td>2021-10-14</td>\n",
       "      <td>169.740005</td>\n",
       "    </tr>\n",
       "    <tr>\n",
       "      <th>895</th>\n",
       "      <td>2021-10-15</td>\n",
       "      <td>161.949997</td>\n",
       "    </tr>\n",
       "    <tr>\n",
       "      <th>898</th>\n",
       "      <td>2021-10-18</td>\n",
       "      <td>166.250000</td>\n",
       "    </tr>\n",
       "    <tr>\n",
       "      <th>899</th>\n",
       "      <td>2021-10-19</td>\n",
       "      <td>160.550003</td>\n",
       "    </tr>\n",
       "    <tr>\n",
       "      <th>900</th>\n",
       "      <td>2021-10-20</td>\n",
       "      <td>136.860001</td>\n",
       "    </tr>\n",
       "    <tr>\n",
       "      <th>901</th>\n",
       "      <td>2021-10-21</td>\n",
       "      <td>138.789993</td>\n",
       "    </tr>\n",
       "    <tr>\n",
       "      <th>902</th>\n",
       "      <td>2021-10-22</td>\n",
       "      <td>134.559998</td>\n",
       "    </tr>\n",
       "    <tr>\n",
       "      <th>905</th>\n",
       "      <td>2021-10-25</td>\n",
       "      <td>135.350006</td>\n",
       "    </tr>\n",
       "    <tr>\n",
       "      <th>906</th>\n",
       "      <td>2021-10-26</td>\n",
       "      <td>134.990005</td>\n",
       "    </tr>\n",
       "    <tr>\n",
       "      <th>907</th>\n",
       "      <td>2021-10-27</td>\n",
       "      <td>141.550003</td>\n",
       "    </tr>\n",
       "    <tr>\n",
       "      <th>908</th>\n",
       "      <td>2021-10-28</td>\n",
       "      <td>150.619995</td>\n",
       "    </tr>\n",
       "    <tr>\n",
       "      <th>909</th>\n",
       "      <td>2021-10-29</td>\n",
       "      <td>148.830002</td>\n",
       "    </tr>\n",
       "    <tr>\n",
       "      <th>912</th>\n",
       "      <td>2021-11-01</td>\n",
       "      <td>172.449997</td>\n",
       "    </tr>\n",
       "    <tr>\n",
       "      <th>913</th>\n",
       "      <td>2021-11-02</td>\n",
       "      <td>195.300003</td>\n",
       "    </tr>\n",
       "    <tr>\n",
       "      <th>914</th>\n",
       "      <td>2021-11-03</td>\n",
       "      <td>195.199997</td>\n",
       "    </tr>\n",
       "    <tr>\n",
       "      <th>915</th>\n",
       "      <td>2021-11-04</td>\n",
       "      <td>179.410004</td>\n",
       "    </tr>\n",
       "    <tr>\n",
       "      <th>916</th>\n",
       "      <td>2021-11-05</td>\n",
       "      <td>159.190002</td>\n",
       "    </tr>\n",
       "    <tr>\n",
       "      <th>919</th>\n",
       "      <td>2021-11-08</td>\n",
       "      <td>173.020004</td>\n",
       "    </tr>\n",
       "    <tr>\n",
       "      <th>920</th>\n",
       "      <td>2021-11-09</td>\n",
       "      <td>169.300003</td>\n",
       "    </tr>\n",
       "    <tr>\n",
       "      <th>921</th>\n",
       "      <td>2021-11-10</td>\n",
       "      <td>164.190002</td>\n",
       "    </tr>\n",
       "    <tr>\n",
       "      <th>923</th>\n",
       "      <td>2021-11-12</td>\n",
       "      <td>169.889999</td>\n",
       "    </tr>\n",
       "    <tr>\n",
       "      <th>926</th>\n",
       "      <td>2021-11-15</td>\n",
       "      <td>172.449997</td>\n",
       "    </tr>\n",
       "    <tr>\n",
       "      <th>927</th>\n",
       "      <td>2021-11-16</td>\n",
       "      <td>170.490005</td>\n",
       "    </tr>\n",
       "    <tr>\n",
       "      <th>928</th>\n",
       "      <td>2021-11-17</td>\n",
       "      <td>183.990005</td>\n",
       "    </tr>\n",
       "    <tr>\n",
       "      <th>929</th>\n",
       "      <td>2021-11-18</td>\n",
       "      <td>191.050003</td>\n",
       "    </tr>\n",
       "    <tr>\n",
       "      <th>930</th>\n",
       "      <td>2021-11-19</td>\n",
       "      <td>192.339996</td>\n",
       "    </tr>\n",
       "    <tr>\n",
       "      <th>933</th>\n",
       "      <td>2021-11-22</td>\n",
       "      <td>207.990005</td>\n",
       "    </tr>\n",
       "    <tr>\n",
       "      <th>934</th>\n",
       "      <td>2021-11-23</td>\n",
       "      <td>200.710007</td>\n",
       "    </tr>\n",
       "    <tr>\n",
       "      <th>935</th>\n",
       "      <td>2021-11-24</td>\n",
       "      <td>200.070007</td>\n",
       "    </tr>\n",
       "    <tr>\n",
       "      <th>937</th>\n",
       "      <td>2021-11-26</td>\n",
       "      <td>217.970001</td>\n",
       "    </tr>\n",
       "    <tr>\n",
       "      <th>940</th>\n",
       "      <td>2021-11-29</td>\n",
       "      <td>193.960007</td>\n",
       "    </tr>\n",
       "    <tr>\n",
       "      <th>941</th>\n",
       "      <td>2021-11-30</td>\n",
       "      <td>208.630005</td>\n",
       "    </tr>\n",
       "  </tbody>\n",
       "</table>\n",
       "</div>"
      ],
      "text/plain": [
       "          date       price\n",
       "881 2021-10-01  181.600006\n",
       "884 2021-10-04  178.270004\n",
       "885 2021-10-05  170.000000\n",
       "886 2021-10-06  161.889999\n",
       "887 2021-10-07  165.679993\n",
       "888 2021-10-08  164.050003\n",
       "892 2021-10-12  163.220001\n",
       "893 2021-10-13  166.389999\n",
       "894 2021-10-14  169.740005\n",
       "895 2021-10-15  161.949997\n",
       "898 2021-10-18  166.250000\n",
       "899 2021-10-19  160.550003\n",
       "900 2021-10-20  136.860001\n",
       "901 2021-10-21  138.789993\n",
       "902 2021-10-22  134.559998\n",
       "905 2021-10-25  135.350006\n",
       "906 2021-10-26  134.990005\n",
       "907 2021-10-27  141.550003\n",
       "908 2021-10-28  150.619995\n",
       "909 2021-10-29  148.830002\n",
       "912 2021-11-01  172.449997\n",
       "913 2021-11-02  195.300003\n",
       "914 2021-11-03  195.199997\n",
       "915 2021-11-04  179.410004\n",
       "916 2021-11-05  159.190002\n",
       "919 2021-11-08  173.020004\n",
       "920 2021-11-09  169.300003\n",
       "921 2021-11-10  164.190002\n",
       "923 2021-11-12  169.889999\n",
       "926 2021-11-15  172.449997\n",
       "927 2021-11-16  170.490005\n",
       "928 2021-11-17  183.990005\n",
       "929 2021-11-18  191.050003\n",
       "930 2021-11-19  192.339996\n",
       "933 2021-11-22  207.990005\n",
       "934 2021-11-23  200.710007\n",
       "935 2021-11-24  200.070007\n",
       "937 2021-11-26  217.970001\n",
       "940 2021-11-29  193.960007\n",
       "941 2021-11-30  208.630005"
      ]
     },
     "execution_count": 345,
     "metadata": {},
     "output_type": "execute_result"
    }
   ],
   "source": [
    "test_data.tail(40)"
   ]
  },
  {
   "cell_type": "code",
   "execution_count": 346,
   "id": "479c1580",
   "metadata": {},
   "outputs": [],
   "source": [
    "fc = fc.price\n",
    "fc2 = fc2.price\n",
    "test_data = test_data.price"
   ]
  },
  {
   "cell_type": "code",
   "execution_count": 347,
   "id": "97c74a2b",
   "metadata": {},
   "outputs": [
    {
     "name": "stdout",
     "output_type": "stream",
     "text": [
      "MSE: 152.0434082698501\n",
      "MAE: 9.3807018151444\n",
      "RMSE: 12.3305883180751\n",
      "MAPE: nan\n"
     ]
    }
   ],
   "source": [
    "# report LSTM performance\n",
    "mse = mean_squared_error(test_data, fc2)\n",
    "print('MSE: '+str(mse))\n",
    "mae = mean_absolute_error(test_data, fc2)\n",
    "print('MAE: '+str(mae))\n",
    "rmse = math.sqrt(mean_squared_error(test_data, fc2))\n",
    "print('RMSE: '+str(rmse))\n",
    "test_data = test_data.squeeze()\n",
    "mape = np.mean(np.abs(fc2 - test_data)/np.abs(test_data))\n",
    "print('MAPE: '+str(mape))"
   ]
  },
  {
   "cell_type": "code",
   "execution_count": 348,
   "id": "ec2d4dba",
   "metadata": {},
   "outputs": [
    {
     "name": "stdout",
     "output_type": "stream",
     "text": [
      "MSE: 135.19070133358616\n",
      "MAE: 8.858654922313905\n",
      "RMSE: 11.627153621311889\n",
      "MAPE: nan\n"
     ]
    }
   ],
   "source": [
    "# report LSTM+trend performance\n",
    "mse = mean_squared_error(test_data, fc)\n",
    "print('MSE: '+str(mse))\n",
    "mae = mean_absolute_error(test_data, fc)\n",
    "print('MAE: '+str(mae))\n",
    "rmse = math.sqrt(mean_squared_error(test_data, fc))\n",
    "print('RMSE: '+str(rmse))\n",
    "test_data = test_data.squeeze()\n",
    "mape = np.mean(np.abs(fc - test_data)/np.abs(test_data))\n",
    "print('MAPE: '+str(mape))"
   ]
  },
  {
   "cell_type": "code",
   "execution_count": null,
   "id": "bdd0a57f",
   "metadata": {},
   "outputs": [],
   "source": [
    "# report performance\n",
    "mse = mean_squared_error(test_data, fc)\n",
    "print('MSE: '+str(mse))\n",
    "mae = mean_absolute_error(test_data, fc)\n",
    "print('MAE: '+str(mae))\n",
    "rmse = math.sqrt(mean_squared_error(test_data, fc))\n",
    "print('RMSE: '+str(rmse))\n",
    "test_data = test_data.squeeze()\n",
    "mape = np.mean(np.abs(fc - test_data)/np.abs(test_data))\n",
    "print('MAPE: '+str(mape))"
   ]
  },
  {
   "cell_type": "code",
   "execution_count": 203,
   "id": "66df32f1",
   "metadata": {},
   "outputs": [
    {
     "name": "stdout",
     "output_type": "stream",
     "text": [
      "MAPE: nan\n"
     ]
    }
   ],
   "source": []
  },
  {
   "cell_type": "code",
   "execution_count": null,
   "id": "17b958c2",
   "metadata": {},
   "outputs": [],
   "source": []
  }
 ],
 "metadata": {
  "kernelspec": {
   "display_name": "Python 3 (ipykernel)",
   "language": "python",
   "name": "python3"
  },
  "language_info": {
   "codemirror_mode": {
    "name": "ipython",
    "version": 3
   },
   "file_extension": ".py",
   "mimetype": "text/x-python",
   "name": "python",
   "nbconvert_exporter": "python",
   "pygments_lexer": "ipython3",
   "version": "3.9.12"
  }
 },
 "nbformat": 4,
 "nbformat_minor": 5
}
